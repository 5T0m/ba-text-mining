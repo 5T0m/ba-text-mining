{
 "cells": [
  {
   "cell_type": "markdown",
   "metadata": {},
   "source": [
    "# Lab2 - Sentiment analysis using VADER\n",
    "\n",
    "In this notebook, we introduce how to use the [VADER](https://github.com/cjhutto/vaderSentiment) as part of the NLTK to perform sentiment analysis.\n",
    "\n",
    "**at the end of this notebook, you will**:\n",
    "* have VADER installed on your computer\n",
    "* be able to load the VADER model\n",
    "* be able to apply the VADER model on new sentences\n",
    "\n",
    "\n",
    "**If you want to learn more sentiment analysis, you might find the following links useful**:"
   ]
  },
  {
   "cell_type": "markdown",
   "metadata": {},
   "source": [
    "## Downloading VADER package\n",
    "Please run the following commands first to download VADER to your computer."
   ]
  },
  {
   "cell_type": "code",
   "execution_count": 2,
   "metadata": {},
   "outputs": [],
   "source": [
    "import nltk"
   ]
  },
  {
   "cell_type": "code",
   "execution_count": 3,
   "metadata": {},
   "outputs": [
    {
     "name": "stderr",
     "output_type": "stream",
     "text": [
      "[nltk_data] Downloading package vader_lexicon to\n",
      "[nltk_data]     /Users/marten/nltk_data...\n",
      "[nltk_data]   Package vader_lexicon is already up-to-date!\n"
     ]
    },
    {
     "data": {
      "text/plain": [
       "True"
      ]
     },
     "execution_count": 3,
     "metadata": {},
     "output_type": "execute_result"
    }
   ],
   "source": [
    "nltk.download('vader_lexicon')"
   ]
  },
  {
   "cell_type": "markdown",
   "metadata": {},
   "source": [
    "To verify that the download was successful, you can run the following command."
   ]
  },
  {
   "cell_type": "code",
   "execution_count": 5,
   "metadata": {},
   "outputs": [],
   "source": [
    "from nltk.sentiment import vader"
   ]
  },
  {
   "cell_type": "markdown",
   "metadata": {},
   "source": [
    "## Load VADER model\n",
    "The model can be loaded in the following way."
   ]
  },
  {
   "cell_type": "code",
   "execution_count": 6,
   "metadata": {
    "scrolled": true
   },
   "outputs": [],
   "source": [
    "from nltk.sentiment.vader import SentimentIntensityAnalyzer"
   ]
  },
  {
   "cell_type": "code",
   "execution_count": 7,
   "metadata": {},
   "outputs": [],
   "source": [
    "vader_model = SentimentIntensityAnalyzer()"
   ]
  },
  {
   "cell_type": "markdown",
   "metadata": {},
   "source": [
    "We need to tokenize text in order to apply VADER. We will use spaCy."
   ]
  },
  {
   "cell_type": "code",
   "execution_count": 8,
   "metadata": {
    "scrolled": true
   },
   "outputs": [],
   "source": [
    "import spacy\n",
    "nlp = spacy.load('en')"
   ]
  },
  {
   "cell_type": "markdown",
   "metadata": {},
   "source": [
    "We take an arbitrary text and run spaCy on it."
   ]
  },
  {
   "cell_type": "code",
   "execution_count": 9,
   "metadata": {},
   "outputs": [],
   "source": [
    "sometext = \"Here are my sentences. It's a nice day. It's a rainy day.\" \n",
    "doc = nlp(sometext)"
   ]
  },
  {
   "cell_type": "markdown",
   "metadata": {},
   "source": [
    "Let's inspect how spaCy split the text into sentences."
   ]
  },
  {
   "cell_type": "code",
   "execution_count": 10,
   "metadata": {},
   "outputs": [
    {
     "name": "stdout",
     "output_type": "stream",
     "text": [
      "Here are my sentences.\n",
      "It's a nice day.\n",
      "It's a rainy day.\n"
     ]
    }
   ],
   "source": [
    "for sent in doc.sents:\n",
    "    print(sent.text)"
   ]
  },
  {
   "cell_type": "markdown",
   "metadata": {},
   "source": [
    "The next for loop assigns a sentiment score from VADER to **each sentence**."
   ]
  },
  {
   "cell_type": "code",
   "execution_count": 17,
   "metadata": {
    "scrolled": false
   },
   "outputs": [
    {
     "name": "stdout",
     "output_type": "stream",
     "text": [
      "\n",
      "INPUT SENTENCE Here are my sentences.\n",
      "VADER OUTPUT {'neg': 0.0, 'neu': 0.714, 'pos': 0.286, 'compound': 0.0516}\n",
      "\n",
      "INPUT SENTENCE It's a nice day.\n",
      "VADER OUTPUT {'neg': 0.0, 'neu': 0.417, 'pos': 0.583, 'compound': 0.4215}\n",
      "\n",
      "INPUT SENTENCE It's a rainy day.\n",
      "VADER OUTPUT {'neg': 0.394, 'neu': 0.606, 'pos': 0.0, 'compound': -0.0772}\n"
     ]
    }
   ],
   "source": [
    "for sent in doc.sents:\n",
    "    scores = vader_model.polarity_scores(sent.text)\n",
    "    print()\n",
    "    print('INPUT SENTENCE', sent)\n",
    "    print('VADER OUTPUT', scores)"
   ]
  },
  {
   "cell_type": "markdown",
   "metadata": {},
   "source": [
    "Lemmatizing the text probably improves the performance of VADER. In addition, you can play with only providing words with a certain part of speech to get an idea of how VADER works."
   ]
  },
  {
   "cell_type": "code",
   "execution_count": 35,
   "metadata": {},
   "outputs": [
    {
     "name": "stdout",
     "output_type": "stream",
     "text": [
      "\n",
      "INPUT SENTENCE Here are my sentences.\n",
      "INPUT TO VADER []\n",
      "VADER OUTPUT {'neg': 0.0, 'neu': 0.0, 'pos': 0.0, 'compound': 0.0}\n",
      "\n",
      "INPUT SENTENCE It's a nice day.\n",
      "INPUT TO VADER ['nice']\n",
      "VADER OUTPUT {'neg': 0.0, 'neu': 0.0, 'pos': 1.0, 'compound': 0.4215}\n",
      "\n",
      "INPUT SENTENCE It's a rainy day.\n",
      "INPUT TO VADER ['rainy']\n",
      "VADER OUTPUT {'neg': 1.0, 'neu': 0.0, 'pos': 0.0, 'compound': -0.0772}\n"
     ]
    }
   ],
   "source": [
    "lemmatize = True # if you want to lemmatize\n",
    "filter_on_part_of_speech = True # if you want to filter on set of parts of speech\n",
    "parts_of_speech_to_consider = {\"ADJ\"} # edit this set for other parts of speech\n",
    "# see https://spacy.io/usage/linguistic-features for list of parts of speech in spaCy\n",
    "\n",
    "for sent in doc.sents:\n",
    "    input_to_vader = []\n",
    "    \n",
    "    for token in sent:\n",
    "        \n",
    "        to_add = token.text\n",
    "                \n",
    "        if lemmatize:\n",
    "            to_add = token.lemma_\n",
    "            \n",
    "            if to_add == '-PRON-': \n",
    "                continue\n",
    "            \n",
    "        if filter_on_part_of_speech:\n",
    "            if token.pos_ in parts_of_speech_to_consider:\n",
    "                input_to_vader.append(to_add) \n",
    "        else:\n",
    "            input_to_vader.append(to_add)\n",
    "    \n",
    "    \n",
    "                \n",
    "    scores = vader_model.polarity_scores(' '.join(input_to_vader))\n",
    "    print()\n",
    "    print('INPUT SENTENCE', sent)\n",
    "    print('INPUT TO VADER', input_to_vader)\n",
    "    print('VADER OUTPUT', scores)\n"
   ]
  },
  {
   "cell_type": "code",
   "execution_count": null,
   "metadata": {},
   "outputs": [],
   "source": []
  }
 ],
 "metadata": {
  "kernelspec": {
   "display_name": "Python 3",
   "language": "python",
   "name": "python3"
  },
  "language_info": {
   "codemirror_mode": {
    "name": "ipython",
    "version": 3
   },
   "file_extension": ".py",
   "mimetype": "text/x-python",
   "name": "python",
   "nbconvert_exporter": "python",
   "pygments_lexer": "ipython3",
   "version": "3.7.2"
  }
 },
 "nbformat": 4,
 "nbformat_minor": 2
}
