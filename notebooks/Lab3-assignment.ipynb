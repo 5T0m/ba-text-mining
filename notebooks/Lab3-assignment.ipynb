{
 "cells": [
  {
   "cell_type": "markdown",
   "metadata": {},
   "source": [
    "# Text Mining, Lab1 Assignment\n",
    "\n",
    "This notebook describes the assignment for Lab 1 of the text mining course. We assume you have worked through the notebooks \"Lab1-introduction-to-NLTK\" and \"Lab1-introduction-to-Spacy\". In these notebooks, we use the example text \"apple-samsung-example.txt\". For the assignment you need to create a notebook yourself using an example text of your own:\n",
    "\n",
    "* create a file with an English text of around 500 words. Make sure the text is in UTF-8 encoding.\n",
    "* Use NLTK to:\n",
    "    * Tokenize the text and count the words\n",
    "    * Extract the sentences from the text\n",
    "    * Select one tokenized sentence from the text include Named Entities and apply part-of-speech tagging (take a long sentence that also shows various interesting properties)\n",
    "    * Augment the RegexpParser so that it also detects Named Entity Phrases (NEP) \n",
    "    * Apply the augmented RegexpParser to the selected sentence\n",
    "    * Visualise the tree structure and include the image in your report\n",
    "    * Use the Entity Chunker of NLTK to extract entity types from the last sentence \n",
    "* Use Spacy to process the same text as you just processed with NLTK\n",
    "    * Select the same sentence as selected above and compare the tokens and part-of-speech tags of Spacy with the NLTK output. Report any differences. Any idea why?\n",
    "    * Compare the chunks of Spacy with the noun constituents you created for NLTK. Report any differences. Any idea why?\n",
    "    * Visualise the dependecy structure of the sentence through Spacy. Save the image and compare it with the structure created through your parser with NLTK. Compare and discuss differences if any.\n"
   ]
  },
  {
   "cell_type": "markdown",
   "metadata": {},
   "source": [
    "Submit your assignment as a Jupyter notebook and as a PDF file via Canvas. You can save the notebook as a PDF file through the File/Download as menu.\n",
    "\n",
    "Please note that submissions should contain a title, your group number, your names.\n",
    "\n",
    "You don't need to provide a long explanation for your commands, simply the commands you used, and maybe some output will suffice. We will strive to give you feedback before the next Lab session."
   ]
  }
 ],
 "metadata": {
  "kernelspec": {
   "display_name": "Python 3",
   "language": "python",
   "name": "python3"
  },
  "language_info": {
   "codemirror_mode": {
    "name": "ipython",
    "version": 3
   },
   "file_extension": ".py",
   "mimetype": "text/x-python",
   "name": "python",
   "nbconvert_exporter": "python",
   "pygments_lexer": "ipython3",
   "version": "3.6.5"
  }
 },
 "nbformat": 4,
 "nbformat_minor": 2
}
