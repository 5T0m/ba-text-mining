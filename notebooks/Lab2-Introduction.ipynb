{
 "cells": [
  {
   "cell_type": "markdown",
   "metadata": {},
   "source": [
    "## Lab2 - Introduction to Sentiment Analysis\n",
    "In this lab session, we dive into the topic of [Sentiment Analysis](https://en.wikipedia.org/wiki/Sentiment_analysis).\n",
    "We show how to use various tools to perform Sentiment Analysis in Python. Also, we demonstrate how to create a gold standard as well as how to evaluate systems on it.\n",
    "\n",
    "Lab 2 consists of the following notebooks:\n",
    "* **Lab2-Sentiment-analysis-with-VADER.ipynb**\n",
    "* **Lab2-Sentiment-analysis.with-NLTK.ipynb**\n",
    "* **Lab2-Sentiment-analysis.with-scikit-learn.ipynb**\n",
    "\n",
    "After going through these notebooks, you are ready to start with the assignment (see notebook **Lab2-assignment.ipynb**)"
   ]
  },
  {
   "cell_type": "code",
   "execution_count": null,
   "metadata": {},
   "outputs": [],
   "source": []
  }
 ],
 "metadata": {
  "kernelspec": {
   "display_name": "Python 3",
   "language": "python",
   "name": "python3"
  },
  "language_info": {
   "codemirror_mode": {
    "name": "ipython",
    "version": 3
   },
   "file_extension": ".py",
   "mimetype": "text/x-python",
   "name": "python",
   "nbconvert_exporter": "python",
   "pygments_lexer": "ipython3",
   "version": "3.6.7"
  }
 },
 "nbformat": 4,
 "nbformat_minor": 2
}
