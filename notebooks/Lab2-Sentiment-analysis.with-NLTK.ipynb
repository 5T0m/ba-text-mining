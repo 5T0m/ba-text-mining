{
 "cells": [
  {
   "cell_type": "markdown",
   "metadata": {},
   "source": [
    "# Lab2 Sentiment analysis using NLTK\n",
    "\n",
    "You are going to create a Sentiment classifier from movie reviews provided in NLTK\n",
    "\n",
    "## Background reading\n",
    "\n",
    "* http://www.nltk.org/api/nltk.sentiment.html#module-nltk.sentiment.util\n",
    "* https://www.nltk.org/book/ch06.html\n",
    "    * section 6.1\n",
    "    * section 6.3"
   ]
  },
  {
   "cell_type": "markdown",
   "metadata": {},
   "source": [
    "We first are going to load the movie_reviews data set from NLTK"
   ]
  },
  {
   "cell_type": "code",
   "execution_count": 14,
   "metadata": {},
   "outputs": [],
   "source": [
    "# Loading stuff\n",
    "import nltk\n",
    "from nltk.classify import NaiveBayesClassifier"
   ]
  },
  {
   "cell_type": "code",
   "execution_count": 15,
   "metadata": {},
   "outputs": [
    {
     "name": "stdout",
     "output_type": "stream",
     "text": [
      "1000 1000\n"
     ]
    }
   ],
   "source": [
    "from nltk.corpus import movie_reviews\n",
    " \n",
    "def word_feats(words):\n",
    "    return dict([(word, True) for word in words])\n",
    " \n",
    "negids = movie_reviews.fileids('neg')\n",
    "posids = movie_reviews.fileids('pos')\n",
    "\n",
    "print(len(negids), len(posids))\n"
   ]
  },
  {
   "cell_type": "markdown",
   "metadata": {},
   "source": [
    "We now have two data sets, one with the files that are negative reviews and one with the files that are positive reviews"
   ]
  },
  {
   "cell_type": "code",
   "execution_count": 16,
   "metadata": {},
   "outputs": [
    {
     "data": {
      "text/plain": [
       "'neg/cv000_29416.txt'"
      ]
     },
     "execution_count": 16,
     "metadata": {},
     "output_type": "execute_result"
    }
   ],
   "source": [
    "#First negative review:\n",
    "negids[0]"
   ]
  },
  {
   "cell_type": "markdown",
   "metadata": {},
   "source": [
    "We next are going to extract texts from each sub data set and create tuples with the labels 'neg' and 'pos', where the first element is the feature representation of the words of the review."
   ]
  },
  {
   "cell_type": "code",
   "execution_count": 17,
   "metadata": {},
   "outputs": [
    {
     "data": {
      "text/plain": [
       "({'plot': True,\n",
       "  ':': True,\n",
       "  'two': True,\n",
       "  'teen': True,\n",
       "  'couples': True,\n",
       "  'go': True,\n",
       "  'to': True,\n",
       "  'a': True,\n",
       "  'church': True,\n",
       "  'party': True,\n",
       "  ',': True,\n",
       "  'drink': True,\n",
       "  'and': True,\n",
       "  'then': True,\n",
       "  'drive': True,\n",
       "  '.': True,\n",
       "  'they': True,\n",
       "  'get': True,\n",
       "  'into': True,\n",
       "  'an': True,\n",
       "  'accident': True,\n",
       "  'one': True,\n",
       "  'of': True,\n",
       "  'the': True,\n",
       "  'guys': True,\n",
       "  'dies': True,\n",
       "  'but': True,\n",
       "  'his': True,\n",
       "  'girlfriend': True,\n",
       "  'continues': True,\n",
       "  'see': True,\n",
       "  'him': True,\n",
       "  'in': True,\n",
       "  'her': True,\n",
       "  'life': True,\n",
       "  'has': True,\n",
       "  'nightmares': True,\n",
       "  'what': True,\n",
       "  \"'\": True,\n",
       "  's': True,\n",
       "  'deal': True,\n",
       "  '?': True,\n",
       "  'watch': True,\n",
       "  'movie': True,\n",
       "  '\"': True,\n",
       "  'sorta': True,\n",
       "  'find': True,\n",
       "  'out': True,\n",
       "  'critique': True,\n",
       "  'mind': True,\n",
       "  '-': True,\n",
       "  'fuck': True,\n",
       "  'for': True,\n",
       "  'generation': True,\n",
       "  'that': True,\n",
       "  'touches': True,\n",
       "  'on': True,\n",
       "  'very': True,\n",
       "  'cool': True,\n",
       "  'idea': True,\n",
       "  'presents': True,\n",
       "  'it': True,\n",
       "  'bad': True,\n",
       "  'package': True,\n",
       "  'which': True,\n",
       "  'is': True,\n",
       "  'makes': True,\n",
       "  'this': True,\n",
       "  'review': True,\n",
       "  'even': True,\n",
       "  'harder': True,\n",
       "  'write': True,\n",
       "  'since': True,\n",
       "  'i': True,\n",
       "  'generally': True,\n",
       "  'applaud': True,\n",
       "  'films': True,\n",
       "  'attempt': True,\n",
       "  'break': True,\n",
       "  'mold': True,\n",
       "  'mess': True,\n",
       "  'with': True,\n",
       "  'your': True,\n",
       "  'head': True,\n",
       "  'such': True,\n",
       "  '(': True,\n",
       "  'lost': True,\n",
       "  'highway': True,\n",
       "  '&': True,\n",
       "  'memento': True,\n",
       "  ')': True,\n",
       "  'there': True,\n",
       "  'are': True,\n",
       "  'good': True,\n",
       "  'ways': True,\n",
       "  'making': True,\n",
       "  'all': True,\n",
       "  'types': True,\n",
       "  'these': True,\n",
       "  'folks': True,\n",
       "  'just': True,\n",
       "  'didn': True,\n",
       "  't': True,\n",
       "  'snag': True,\n",
       "  'correctly': True,\n",
       "  'seem': True,\n",
       "  'have': True,\n",
       "  'taken': True,\n",
       "  'pretty': True,\n",
       "  'neat': True,\n",
       "  'concept': True,\n",
       "  'executed': True,\n",
       "  'terribly': True,\n",
       "  'so': True,\n",
       "  'problems': True,\n",
       "  'well': True,\n",
       "  'its': True,\n",
       "  'main': True,\n",
       "  'problem': True,\n",
       "  'simply': True,\n",
       "  'too': True,\n",
       "  'jumbled': True,\n",
       "  'starts': True,\n",
       "  'off': True,\n",
       "  'normal': True,\n",
       "  'downshifts': True,\n",
       "  'fantasy': True,\n",
       "  'world': True,\n",
       "  'you': True,\n",
       "  'as': True,\n",
       "  'audience': True,\n",
       "  'member': True,\n",
       "  'no': True,\n",
       "  'going': True,\n",
       "  'dreams': True,\n",
       "  'characters': True,\n",
       "  'coming': True,\n",
       "  'back': True,\n",
       "  'from': True,\n",
       "  'dead': True,\n",
       "  'others': True,\n",
       "  'who': True,\n",
       "  'look': True,\n",
       "  'like': True,\n",
       "  'strange': True,\n",
       "  'apparitions': True,\n",
       "  'disappearances': True,\n",
       "  'looooot': True,\n",
       "  'chase': True,\n",
       "  'scenes': True,\n",
       "  'tons': True,\n",
       "  'weird': True,\n",
       "  'things': True,\n",
       "  'happen': True,\n",
       "  'most': True,\n",
       "  'not': True,\n",
       "  'explained': True,\n",
       "  'now': True,\n",
       "  'personally': True,\n",
       "  'don': True,\n",
       "  'trying': True,\n",
       "  'unravel': True,\n",
       "  'film': True,\n",
       "  'every': True,\n",
       "  'when': True,\n",
       "  'does': True,\n",
       "  'give': True,\n",
       "  'me': True,\n",
       "  'same': True,\n",
       "  'clue': True,\n",
       "  'over': True,\n",
       "  'again': True,\n",
       "  'kind': True,\n",
       "  'fed': True,\n",
       "  'up': True,\n",
       "  'after': True,\n",
       "  'while': True,\n",
       "  'biggest': True,\n",
       "  'obviously': True,\n",
       "  'got': True,\n",
       "  'big': True,\n",
       "  'secret': True,\n",
       "  'hide': True,\n",
       "  'seems': True,\n",
       "  'want': True,\n",
       "  'completely': True,\n",
       "  'until': True,\n",
       "  'final': True,\n",
       "  'five': True,\n",
       "  'minutes': True,\n",
       "  'do': True,\n",
       "  'make': True,\n",
       "  'entertaining': True,\n",
       "  'thrilling': True,\n",
       "  'or': True,\n",
       "  'engaging': True,\n",
       "  'meantime': True,\n",
       "  'really': True,\n",
       "  'sad': True,\n",
       "  'part': True,\n",
       "  'arrow': True,\n",
       "  'both': True,\n",
       "  'dig': True,\n",
       "  'flicks': True,\n",
       "  'we': True,\n",
       "  'actually': True,\n",
       "  'figured': True,\n",
       "  'by': True,\n",
       "  'half': True,\n",
       "  'way': True,\n",
       "  'point': True,\n",
       "  'strangeness': True,\n",
       "  'did': True,\n",
       "  'start': True,\n",
       "  'little': True,\n",
       "  'bit': True,\n",
       "  'sense': True,\n",
       "  'still': True,\n",
       "  'more': True,\n",
       "  'guess': True,\n",
       "  'bottom': True,\n",
       "  'line': True,\n",
       "  'movies': True,\n",
       "  'should': True,\n",
       "  'always': True,\n",
       "  'sure': True,\n",
       "  'before': True,\n",
       "  'given': True,\n",
       "  'password': True,\n",
       "  'enter': True,\n",
       "  'understanding': True,\n",
       "  'mean': True,\n",
       "  'showing': True,\n",
       "  'melissa': True,\n",
       "  'sagemiller': True,\n",
       "  'running': True,\n",
       "  'away': True,\n",
       "  'visions': True,\n",
       "  'about': True,\n",
       "  '20': True,\n",
       "  'throughout': True,\n",
       "  'plain': True,\n",
       "  'lazy': True,\n",
       "  '!': True,\n",
       "  'okay': True,\n",
       "  'people': True,\n",
       "  'chasing': True,\n",
       "  'know': True,\n",
       "  'need': True,\n",
       "  'how': True,\n",
       "  'giving': True,\n",
       "  'us': True,\n",
       "  'different': True,\n",
       "  'offering': True,\n",
       "  'further': True,\n",
       "  'insight': True,\n",
       "  'down': True,\n",
       "  'apparently': True,\n",
       "  'studio': True,\n",
       "  'took': True,\n",
       "  'director': True,\n",
       "  'chopped': True,\n",
       "  'themselves': True,\n",
       "  'shows': True,\n",
       "  'might': True,\n",
       "  've': True,\n",
       "  'been': True,\n",
       "  'decent': True,\n",
       "  'here': True,\n",
       "  'somewhere': True,\n",
       "  'suits': True,\n",
       "  'decided': True,\n",
       "  'turning': True,\n",
       "  'music': True,\n",
       "  'video': True,\n",
       "  'edge': True,\n",
       "  'would': True,\n",
       "  'actors': True,\n",
       "  'although': True,\n",
       "  'wes': True,\n",
       "  'bentley': True,\n",
       "  'seemed': True,\n",
       "  'be': True,\n",
       "  'playing': True,\n",
       "  'exact': True,\n",
       "  'character': True,\n",
       "  'he': True,\n",
       "  'american': True,\n",
       "  'beauty': True,\n",
       "  'only': True,\n",
       "  'new': True,\n",
       "  'neighborhood': True,\n",
       "  'my': True,\n",
       "  'kudos': True,\n",
       "  'holds': True,\n",
       "  'own': True,\n",
       "  'entire': True,\n",
       "  'feeling': True,\n",
       "  'unraveling': True,\n",
       "  'overall': True,\n",
       "  'doesn': True,\n",
       "  'stick': True,\n",
       "  'because': True,\n",
       "  'entertain': True,\n",
       "  'confusing': True,\n",
       "  'rarely': True,\n",
       "  'excites': True,\n",
       "  'feels': True,\n",
       "  'redundant': True,\n",
       "  'runtime': True,\n",
       "  'despite': True,\n",
       "  'ending': True,\n",
       "  'explanation': True,\n",
       "  'craziness': True,\n",
       "  'came': True,\n",
       "  'oh': True,\n",
       "  'horror': True,\n",
       "  'slasher': True,\n",
       "  'flick': True,\n",
       "  'packaged': True,\n",
       "  'someone': True,\n",
       "  'assuming': True,\n",
       "  'genre': True,\n",
       "  'hot': True,\n",
       "  'kids': True,\n",
       "  'also': True,\n",
       "  'wrapped': True,\n",
       "  'production': True,\n",
       "  'years': True,\n",
       "  'ago': True,\n",
       "  'sitting': True,\n",
       "  'shelves': True,\n",
       "  'ever': True,\n",
       "  'whatever': True,\n",
       "  'skip': True,\n",
       "  'where': True,\n",
       "  'joblo': True,\n",
       "  'nightmare': True,\n",
       "  'elm': True,\n",
       "  'street': True,\n",
       "  '3': True,\n",
       "  '7': True,\n",
       "  '/': True,\n",
       "  '10': True,\n",
       "  'blair': True,\n",
       "  'witch': True,\n",
       "  '2': True,\n",
       "  'crow': True,\n",
       "  '9': True,\n",
       "  'salvation': True,\n",
       "  '4': True,\n",
       "  'stir': True,\n",
       "  'echoes': True,\n",
       "  '8': True},\n",
       " 'neg')"
      ]
     },
     "execution_count": 17,
     "metadata": {},
     "output_type": "execute_result"
    }
   ],
   "source": [
    "negfeats = [(word_feats(movie_reviews.words(fileids=[f])), 'neg') for f in negids]\n",
    "posfeats = [(word_feats(movie_reviews.words(fileids=[f])), 'pos') for f in posids]\n",
    "\n",
    "# lets print the first tuple from the negative set\n",
    "negfeats[0]"
   ]
  },
  {
   "cell_type": "code",
   "execution_count": 18,
   "metadata": {},
   "outputs": [
    {
     "name": "stdout",
     "output_type": "stream",
     "text": [
      "750\n",
      "750\n"
     ]
    }
   ],
   "source": [
    "# Define a split over the data for creating a train and test set\n",
    "negcutoff = int(len(negfeats)*3/4)\n",
    "poscutoff = int(len(posfeats)*3/4)\n",
    "\n",
    "print(negcutoff)\n",
    "print(poscutoff)"
   ]
  },
  {
   "cell_type": "code",
   "execution_count": 19,
   "metadata": {},
   "outputs": [
    {
     "name": "stdout",
     "output_type": "stream",
     "text": [
      "train on 1500 instances, test on 500 instances\n"
     ]
    }
   ],
   "source": [
    "trainfeats = negfeats[:negcutoff] + posfeats[:poscutoff]\n",
    "testfeats = negfeats[negcutoff:] + posfeats[poscutoff:]\n",
    "print('train on %d instances, test on %d instances' % (len(trainfeats), len(testfeats)))"
   ]
  },
  {
   "cell_type": "code",
   "execution_count": 20,
   "metadata": {
    "scrolled": false
   },
   "outputs": [
    {
     "name": "stdout",
     "output_type": "stream",
     "text": [
      "accuracy: 0.728\n",
      "Most Informative Features\n",
      "             magnificent = True              pos : neg    =     15.0 : 1.0\n",
      "             outstanding = True              pos : neg    =     13.6 : 1.0\n",
      "               insulting = True              neg : pos    =     13.0 : 1.0\n",
      "              vulnerable = True              pos : neg    =     12.3 : 1.0\n",
      "               ludicrous = True              neg : pos    =     11.8 : 1.0\n",
      "                  avoids = True              pos : neg    =     11.7 : 1.0\n",
      "             uninvolving = True              neg : pos    =     11.7 : 1.0\n",
      "             fascination = True              pos : neg    =     10.3 : 1.0\n",
      "              astounding = True              pos : neg    =     10.3 : 1.0\n",
      "                 idiotic = True              neg : pos    =      9.8 : 1.0\n"
     ]
    }
   ],
   "source": [
    "classifier = NaiveBayesClassifier.train(trainfeats)\n",
    "print('accuracy:', nltk.classify.util.accuracy(classifier, testfeats))\n",
    "classifier.show_most_informative_features()"
   ]
  },
  {
   "cell_type": "markdown",
   "metadata": {},
   "source": [
    "## Below we show how you can train and test with your own data in a simple way"
   ]
  },
  {
   "cell_type": "code",
   "execution_count": 22,
   "metadata": {
    "scrolled": true
   },
   "outputs": [
    {
     "name": "stdout",
     "output_type": "stream",
     "text": [
      "[({'I': True}, 'pos'), ({'l': True, 'i': True, 'k': True, 'e': True}, 'pos'), ({'g': True, 'r': True, 'e': True, 'n': True}, 'pos'), ({'e': True, 'g': True, 's': True}, 'pos'), ({'a': True, 'n': True, 'd': True}, 'pos'), ({'h': True, 'a': True, 'm': True}, 'pos'), ({',': True}, 'pos'), ({'a': True, 'n': True, 'd': True}, 'pos'), ({'I': True}, 'pos'), ({'l': True, 'i': True, 'k': True, 'e': True}, 'pos'), ({'t': True, 'h': True, 'e': True, 'm': True}, 'pos'), ({'t': True, 'o': True}, 'pos'), ({'!': True}, 'pos')]\n"
     ]
    }
   ],
   "source": [
    "import nltk.classify.util\n",
    "from nltk.classify import NaiveBayesClassifier\n",
    "#from nltk.corpus import names\n",
    "\n",
    "# simple function that turns a list of words into word_feats (word features)\n",
    "def word_feats(words):\n",
    "    return dict([(word, True) for word in words])\n",
    "\n",
    "# In a lexical approach, you would predefine the positive, negative and neutral words and only use these to train a classifier\n",
    "positive_vocab = [ 'awesome', 'outstanding', 'fantastic', 'terrific', 'good', 'nice', 'great', ':)' ]\n",
    "negative_vocab = [ 'bad', 'terrible','useless', 'hate', ':(' ]\n",
    "neutral_vocab = [ 'movie','the','sound','was','is','actors','did','know','words','not' ]\n",
    "\n",
    "# Assume you have a collections of texts that are negative and neutral\n",
    "negsentence = \"I do not like green eggs and ham, and I do not like them too!\"\n",
    "possentence = \"I like green eggs and ham, and I like them too!\"\n",
    "# By using the tokenization function, you can turn them into word negative and positive lists\n",
    "negtokens = nltk.word_tokenize(negsentence)\n",
    "postokens = nltk.word_tokenize(possentence)\n",
    "\n",
    "# Next we use the simple word feature function to turn them into features that can be used for training the classifier \n",
    "positive_features = [(word_feats(pos), 'pos') for pos in postokens]\n",
    "negative_features = [(word_feats(neg), 'neg') for neg in negtokens]\n",
    "# for neural we now take the vocabulary given above\n",
    "neutral_features = [(word_feats(neu), 'neu') for neu in neutral_vocab]\n",
    "print(positive_features) "
   ]
  },
  {
   "cell_type": "markdown",
   "metadata": {},
   "source": [
    "What would be another way to obtain neutral word features?"
   ]
  },
  {
   "cell_type": "markdown",
   "metadata": {},
   "source": [
    "How would you do this for a data set where positive and negative texts are stored in two separate directories?"
   ]
  },
  {
   "cell_type": "code",
   "execution_count": 23,
   "metadata": {},
   "outputs": [],
   "source": [
    "# we simply concatenate the features to create a training set\n",
    "train_set = negative_features + positive_features + neutral_features\n",
    "classifier = NaiveBayesClassifier.train(train_set) "
   ]
  },
  {
   "cell_type": "markdown",
   "metadata": {},
   "source": [
    "We are going to test this classifier on a single sentence."
   ]
  },
  {
   "cell_type": "code",
   "execution_count": 24,
   "metadata": {},
   "outputs": [
    {
     "name": "stdout",
     "output_type": "stream",
     "text": [
      "Sentence: 'Awesome eggs, I do not liked them'\n",
      "--------------\n",
      "\n",
      "Positive: 0.375\n",
      "Negative: 0.25\n"
     ]
    }
   ],
   "source": [
    "neg = 0\n",
    "pos = 0\n",
    "testsentence = \"Awesome eggs, I do not liked them\"\n",
    "words = nltk.word_tokenize(testsentence)\n",
    "for word in words:\n",
    "    classResult = classifier.classify(word_feats(word))\n",
    "    if classResult == 'neg':\n",
    "        neg = neg + 1\n",
    "    if classResult == 'pos':\n",
    "        pos = pos + 1\n",
    " \n",
    "print(\"Sentence: '{}'\\n--------------\\n\".format(testsentence))\n",
    "print('Positive: ' + str(float(pos)/len(words)))\n",
    "print('Negative: ' + str(float(neg)/len(words)))"
   ]
  }
 ],
 "metadata": {
  "kernelspec": {
   "display_name": "Python 3",
   "language": "python",
   "name": "python3"
  },
  "language_info": {
   "codemirror_mode": {
    "name": "ipython",
    "version": 3
   },
   "file_extension": ".py",
   "mimetype": "text/x-python",
   "name": "python",
   "nbconvert_exporter": "python",
   "pygments_lexer": "ipython3",
   "version": "3.6.5"
  }
 },
 "nbformat": 4,
 "nbformat_minor": 2
}
