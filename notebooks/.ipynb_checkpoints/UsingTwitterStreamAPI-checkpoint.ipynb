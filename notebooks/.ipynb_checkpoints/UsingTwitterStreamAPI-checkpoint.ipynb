{
 "cells": [
  {
   "cell_type": "code",
   "execution_count": null,
   "metadata": {},
   "outputs": [],
   "source": [
    "How to use the twitter API"
   ]
  },
  {
   "cell_type": "code",
   "execution_count": null,
   "metadata": {},
   "outputs": [],
   "source": [
    "# Import the necessary package to process data in JSON format\n",
    "try:\n",
    "    import json\n",
    "except ImportError:\n",
    "    import simplejson as json\n",
    "\n",
    "# Import the tweepy library\n",
    "import tweepy\n",
    "\n",
    "# Variables that contains the user credentials to access Twitter API \n",
    "ACCESS_TOKEN = '92835450-VihU0iA7tetSwyfGBafzvZxm985LeSHFfrpDjOjGh'\n",
    "ACCESS_SECRET = 'A2io57YYPObKtlhlYlzcwqJigeFnspzsgLTyJOfE'\n",
    "CONSUMER_KEY = 'YOUR API KEY'\n",
    "CONSUMER_SECRET = 'ENTER YOUR API SECRET'\n",
    "\n",
    "# Setup tweepy to authenticate with Twitter credentials:\n",
    "\n",
    "auth = tweepy.OAuthHandler(CONSUMER_KEY, CONSUMER_SECRET)\n",
    "auth.set_access_token(ACCESS_TOKEN, ACCESS_SECRET)\n",
    "\n",
    "# Create the api to connect to twitter with your creadentials\n",
    "api = tweepy.API(auth, wait_on_rate_limit=True, wait_on_rate_limit_notify=True, compression=True)\n",
    "#---------------------------------------------------------------------------------------------------------------------\n",
    "# wait_on_rate_limit= True;  will make the api to automatically wait for rate limits to replenish\n",
    "# wait_on_rate_limit_notify= Ture;  will make the api  to print a notification when Tweepyis waiting for rate limits to replenish\n",
    "#---------------------------------------------------------------------------------------------------------------------\n",
    "\n",
    "\n",
    "#---------------------------------------------------------------------------------------------------------------------\n",
    "# The following loop will print most recent statuses, including retweets, posted by the authenticating user and that user’s friends. \n",
    "# This is the equivalent of /timeline/home on the Web.\n",
    "#---------------------------------------------------------------------------------------------------------------------\n",
    "\n",
    "for status in tweepy.Cursor(api.home_timeline).items(200):\n",
    "\tprint(status._json)\n",
    "\t\n",
    "#---------------------------------------------------------------------------------------------------------------------\n",
    "# Twitter API development use pagination for Iterating through timelines, user lists, direct messages, etc. \n",
    "# To help make pagination easier and Tweepy has the Cursor object.\n",
    "#---------------------------------------------------------------------------------------------------------------------"
   ]
  }
 ],
 "metadata": {
  "kernelspec": {
   "display_name": "Python 3",
   "language": "python",
   "name": "python3"
  },
  "language_info": {
   "codemirror_mode": {
    "name": "ipython",
    "version": 3
   },
   "file_extension": ".py",
   "mimetype": "text/x-python",
   "name": "python",
   "nbconvert_exporter": "python",
   "pygments_lexer": "ipython3",
   "version": "3.6.5"
  }
 },
 "nbformat": 4,
 "nbformat_minor": 2
}
