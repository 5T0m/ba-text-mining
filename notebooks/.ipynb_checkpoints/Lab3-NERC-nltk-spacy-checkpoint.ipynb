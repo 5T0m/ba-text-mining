{
 "cells": [
  {
   "cell_type": "markdown",
   "metadata": {},
   "source": [
    "# LAB3 Named-Entity Recognition and Classification\n",
    "\n",
    "This notebook dives deeper into the task of Named Entity Recongition and Classification (NERC). We will reconsider the modules in NLTK and Spacy but also look at the data that is available to train modules and the formats of this data. Machine learning approaches to NERC typically use many different features and it is important to understand how these are represented in the data and used for training."
   ]
  },
  {
   "cell_type": "markdown",
   "metadata": {},
   "source": [
    "We will use again the Lab1-apple-samsung text to reconsider the modules"
   ]
  },
  {
   "cell_type": "code",
   "execution_count": 4,
   "metadata": {},
   "outputs": [],
   "source": [
    "from pprint import pprint"
   ]
  },
  {
   "cell_type": "code",
   "execution_count": 5,
   "metadata": {
    "scrolled": true
   },
   "outputs": [
    {
     "name": "stdout",
     "output_type": "stream",
     "text": [
      "('https://www.telegraph.co.uk/technology/apple/9702716/Apple-Samsung-lawsuit-six-more-products-under-scrutiny.html\\n'\n",
      " '\\n'\n",
      " 'Documents filed to the San Jose federal court in California on November 23 '\n",
      " 'list six Samsung products running the \"Jelly Bean\" and \"Ice Cream Sandwich\" '\n",
      " 'operating systems, which Apple claims infringe its patents.\\n'\n",
      " 'The six phones and tablets affected are the Galaxy S III, running the new '\n",
      " 'Jelly Bean system, the Galaxy Tab 8.9 Wifi tablet, the Galaxy Tab 2 10.1, '\n",
      " 'Galaxy Rugby Pro and Galaxy S III mini.\\n'\n",
      " 'Apple stated it had “acted quickly and diligently\" in order to \"determine '\n",
      " 'that these newly released products do infringe many of the same claims '\n",
      " 'already asserted by Apple.\"\\n'\n",
      " 'In August, Samsung lost a US patent case to Apple and was ordered to pay its '\n",
      " 'rival $1.05bn (£0.66bn) in damages for copying features of the iPad and '\n",
      " \"iPhone in its Galaxy range of devices. Samsung, which is the world's top \"\n",
      " 'mobile phone maker, is appealing the ruling.\\n'\n",
      " \"A similar case in the UK found in Samsung's favour and ordered Apple to \"\n",
      " 'publish an apology making clear that the South Korean firm had not copied '\n",
      " 'its iPad when designing its own devices.')\n"
     ]
    }
   ],
   "source": [
    "f=open('/Users/piek/Desktop/TextMiningFEW-2019/text-mining-ba-git/notebooks/Lab1-apple-samsung-example.txt','r')\n",
    "example_text=f.read()\n",
    "pprint(example_text)"
   ]
  },
  {
   "cell_type": "markdown",
   "metadata": {},
   "source": [
    "## NERC by NLTK\n",
    "\n",
    "NLTK needs part-of-speech tagging as a preprocess for the NERC module"
   ]
  },
  {
   "cell_type": "code",
   "execution_count": 23,
   "metadata": {},
   "outputs": [
    {
     "name": "stdout",
     "output_type": "stream",
     "text": [
      "The first sentence from the document: https://www.telegraph.co.uk/technology/apple/9702716/Apple-Samsung-lawsuit-six-more-products-under-scrutiny.html\n",
      "\n",
      "Documents filed to the San Jose federal court in California on November 23 list six Samsung products running the \"Jelly Bean\" and \"Ice Cream Sandwich\" operating systems, which Apple claims infringe its patents.\n",
      "##########\n",
      "The first sentence preprocessed by NLTK with POS tags\n",
      "##########\n",
      "[('https', 'NN'), (':', ':'), ('//www.telegraph.co.uk/technology/apple/9702716/Apple-Samsung-lawsuit-six-more-products-under-scrutiny.html', 'JJ'), ('Documents', 'NNS'), ('filed', 'VBN'), ('to', 'TO'), ('the', 'DT'), ('San', 'NNP'), ('Jose', 'NNP'), ('federal', 'JJ'), ('court', 'NN'), ('in', 'IN'), ('California', 'NNP'), ('on', 'IN'), ('November', 'NNP'), ('23', 'CD'), ('list', 'NN'), ('six', 'CD'), ('Samsung', 'NNP'), ('products', 'NNS'), ('running', 'VBG'), ('the', 'DT'), ('``', '``'), ('Jelly', 'RB'), ('Bean', 'NNP'), (\"''\", \"''\"), ('and', 'CC'), ('``', '``'), ('Ice', 'NNP'), ('Cream', 'NNP'), ('Sandwich', 'NNP'), (\"''\", \"''\"), ('operating', 'VBG'), ('systems', 'NNS'), (',', ','), ('which', 'WDT'), ('Apple', 'NNP'), ('claims', 'VBZ'), ('infringe', 'VB'), ('its', 'PRP$'), ('patents', 'NNS'), ('.', '.')]\n"
     ]
    }
   ],
   "source": [
    "import nltk\n",
    "from nltk.tokenize import word_tokenize\n",
    "from nltk.tag import pos_tag\n",
    "\n",
    "def preprocess(sent):\n",
    "    sent = nltk.word_tokenize(sent)\n",
    "    sent = nltk.pos_tag(sent)\n",
    "    return sent\n",
    "\n",
    "sents = nltk.sent_tokenize(example_text)\n",
    "print(\"The first sentence from the document:\", sents[0])\n",
    "tagged_text = preprocess(sents[0])\n",
    "print('##########')\n",
    "print('The first sentence preprocessed by NLTK with POS tags')\n",
    "print('##########')\n",
    "print(tagged_text)"
   ]
  },
  {
   "cell_type": "code",
   "execution_count": 24,
   "metadata": {
    "scrolled": false
   },
   "outputs": [
    {
     "name": "stdout",
     "output_type": "stream",
     "text": [
      "(S\n",
      "  https/NN\n",
      "  :/:\n",
      "  //www.telegraph.co.uk/technology/apple/9702716/Apple-Samsung-lawsuit-six-more-products-under-scrutiny.html/JJ\n",
      "  Documents/NNS\n",
      "  filed/VBN\n",
      "  to/TO\n",
      "  the/DT\n",
      "  (ORGANIZATION San/NNP Jose/NNP)\n",
      "  federal/JJ\n",
      "  court/NN\n",
      "  in/IN\n",
      "  (GPE California/NNP)\n",
      "  on/IN\n",
      "  November/NNP\n",
      "  23/CD\n",
      "  list/NN\n",
      "  six/CD\n",
      "  (ORGANIZATION Samsung/NNP)\n",
      "  products/NNS\n",
      "  running/VBG\n",
      "  the/DT\n",
      "  ``/``\n",
      "  Jelly/RB\n",
      "  (GPE Bean/NNP)\n",
      "  ''/''\n",
      "  and/CC\n",
      "  ``/``\n",
      "  Ice/NNP\n",
      "  Cream/NNP\n",
      "  Sandwich/NNP\n",
      "  ''/''\n",
      "  operating/VBG\n",
      "  systems/NNS\n",
      "  ,/,\n",
      "  which/WDT\n",
      "  (PERSON Apple/NNP)\n",
      "  claims/VBZ\n",
      "  infringe/VB\n",
      "  its/PRP$\n",
      "  patents/NNS\n",
      "  ./.)\n"
     ]
    }
   ],
   "source": [
    "ne_tree = nltk.ne_chunk(tagged_text)\n",
    "print(ne_tree)"
   ]
  },
  {
   "cell_type": "markdown",
   "metadata": {},
   "source": [
    "The above representation is a flat tree structure, listing all tagged tokens and providing additional named entity types. NLP modules are often trained and tested on the CoNLL format. NLTK can convert the above tree structure to the IOB representation."
   ]
  },
  {
   "cell_type": "code",
   "execution_count": 27,
   "metadata": {},
   "outputs": [
    {
     "name": "stdout",
     "output_type": "stream",
     "text": [
      "[('https', 'NN', 'O'),\n",
      " (':', ':', 'O'),\n",
      " ('//www.telegraph.co.uk/technology/apple/9702716/Apple-Samsung-lawsuit-six-more-products-under-scrutiny.html',\n",
      "  'JJ',\n",
      "  'O'),\n",
      " ('Documents', 'NNS', 'O'),\n",
      " ('filed', 'VBN', 'O'),\n",
      " ('to', 'TO', 'O'),\n",
      " ('the', 'DT', 'O'),\n",
      " ('San', 'NNP', 'B-ORGANIZATION'),\n",
      " ('Jose', 'NNP', 'I-ORGANIZATION'),\n",
      " ('federal', 'JJ', 'O'),\n",
      " ('court', 'NN', 'O'),\n",
      " ('in', 'IN', 'O'),\n",
      " ('California', 'NNP', 'B-GPE'),\n",
      " ('on', 'IN', 'O'),\n",
      " ('November', 'NNP', 'O'),\n",
      " ('23', 'CD', 'O'),\n",
      " ('list', 'NN', 'O'),\n",
      " ('six', 'CD', 'O'),\n",
      " ('Samsung', 'NNP', 'B-ORGANIZATION'),\n",
      " ('products', 'NNS', 'O'),\n",
      " ('running', 'VBG', 'O'),\n",
      " ('the', 'DT', 'O'),\n",
      " ('``', '``', 'O'),\n",
      " ('Jelly', 'RB', 'O'),\n",
      " ('Bean', 'NNP', 'B-GPE'),\n",
      " (\"''\", \"''\", 'O'),\n",
      " ('and', 'CC', 'O'),\n",
      " ('``', '``', 'O'),\n",
      " ('Ice', 'NNP', 'O'),\n",
      " ('Cream', 'NNP', 'O'),\n",
      " ('Sandwich', 'NNP', 'O'),\n",
      " (\"''\", \"''\", 'O'),\n",
      " ('operating', 'VBG', 'O'),\n",
      " ('systems', 'NNS', 'O'),\n",
      " (',', ',', 'O'),\n",
      " ('which', 'WDT', 'O'),\n",
      " ('Apple', 'NNP', 'B-PERSON'),\n",
      " ('claims', 'VBZ', 'O'),\n",
      " ('infringe', 'VB', 'O'),\n",
      " ('its', 'PRP$', 'O'),\n",
      " ('patents', 'NNS', 'O'),\n",
      " ('.', '.', 'O')]\n"
     ]
    }
   ],
   "source": [
    "from nltk.chunk import conlltags2tree, tree2conlltags\n",
    "from pprint import pprint\n",
    "iob_tagged_chunks = tree2conlltags(ne_tree)\n",
    "pprint(iob_tagged_chunks)"
   ]
  },
  {
   "cell_type": "markdown",
   "metadata": {},
   "source": [
    "https://spacy.io \n",
    "conda install -c conda-forge spacy\n",
    "Get the English NLP package:\n",
    "https://spacy.io/models/en\n",
    "python -m spacy download en_core_web_sm"
   ]
  },
  {
   "cell_type": "code",
   "execution_count": 28,
   "metadata": {
    "scrolled": true
   },
   "outputs": [],
   "source": [
    "import spacy\n",
    "from spacy import displacy\n",
    "from collections import Counter\n",
    "import en_core_web_sm\n",
    "nlp = en_core_web_sm.load()"
   ]
  },
  {
   "cell_type": "code",
   "execution_count": 29,
   "metadata": {},
   "outputs": [],
   "source": [
    "doc = nlp(example_text)\n",
    "sentences = [x for x in doc.sents]\n",
    "firstsentence=sentences[0]"
   ]
  },
  {
   "cell_type": "code",
   "execution_count": 30,
   "metadata": {},
   "outputs": [
    {
     "name": "stdout",
     "output_type": "stream",
     "text": [
      "[('San Jose', 'GPE'),\n",
      " ('California', 'GPE'),\n",
      " ('November 23', 'DATE'),\n",
      " ('six', 'CARDINAL'),\n",
      " ('Samsung', 'ORG'),\n",
      " ('Jelly Bean', 'PERSON'),\n",
      " ('Ice Cream Sandwich', 'WORK_OF_ART'),\n",
      " ('Apple', 'ORG'),\n",
      " ('\\n', 'GPE')]\n"
     ]
    }
   ],
   "source": [
    "pprint([(X.text, X.label_) for X in firstsentence.ents])"
   ]
  },
  {
   "cell_type": "markdown",
   "metadata": {},
   "source": [
    " BILUO tagging scheme to describe the entity boundaries: Begin, In, Last (final entity token), Unit (single token entity), Out (non-entity token)"
   ]
  },
  {
   "cell_type": "code",
   "execution_count": 31,
   "metadata": {},
   "outputs": [
    {
     "name": "stdout",
     "output_type": "stream",
     "text": [
      "[(https://www.telegraph.co.uk/technology/apple/9702716/Apple-Samsung-lawsuit-six-more-products-under-scrutiny.html,\n",
      "  'O',\n",
      "  ''),\n",
      " (\n",
      "\n",
      ", 'O', ''),\n",
      " (Documents, 'O', ''),\n",
      " (filed, 'O', ''),\n",
      " (to, 'O', ''),\n",
      " (the, 'O', ''),\n",
      " (San, 'B', 'GPE'),\n",
      " (Jose, 'I', 'GPE'),\n",
      " (federal, 'O', ''),\n",
      " (court, 'O', ''),\n",
      " (in, 'O', ''),\n",
      " (California, 'B', 'GPE'),\n",
      " (on, 'O', ''),\n",
      " (November, 'B', 'DATE'),\n",
      " (23, 'I', 'DATE'),\n",
      " (list, 'O', ''),\n",
      " (six, 'B', 'CARDINAL'),\n",
      " (Samsung, 'B', 'ORG'),\n",
      " (products, 'O', ''),\n",
      " (running, 'O', ''),\n",
      " (the, 'O', ''),\n",
      " (\", 'O', ''),\n",
      " (Jelly, 'B', 'PERSON'),\n",
      " (Bean, 'I', 'PERSON'),\n",
      " (\", 'O', ''),\n",
      " (and, 'O', ''),\n",
      " (\", 'O', ''),\n",
      " (Ice, 'B', 'WORK_OF_ART'),\n",
      " (Cream, 'I', 'WORK_OF_ART'),\n",
      " (Sandwich, 'I', 'WORK_OF_ART'),\n",
      " (\", 'O', ''),\n",
      " (operating, 'O', ''),\n",
      " (systems, 'O', ''),\n",
      " (,, 'O', ''),\n",
      " (which, 'O', ''),\n",
      " (Apple, 'B', 'ORG'),\n",
      " (claims, 'O', ''),\n",
      " (infringe, 'O', ''),\n",
      " (its, 'O', ''),\n",
      " (patents, 'O', ''),\n",
      " (., 'O', ''),\n",
      " (\n",
      ", 'B', 'GPE')]\n"
     ]
    }
   ],
   "source": [
    "pprint([(X, X.ent_iob_, X.ent_type_) for X in firstsentence])"
   ]
  },
  {
   "cell_type": "code",
   "execution_count": 32,
   "metadata": {},
   "outputs": [
    {
     "data": {
      "text/plain": [
       "Counter({'GPE': 3,\n",
       "         'DATE': 1,\n",
       "         'CARDINAL': 1,\n",
       "         'ORG': 2,\n",
       "         'PERSON': 1,\n",
       "         'WORK_OF_ART': 1})"
      ]
     },
     "execution_count": 32,
     "metadata": {},
     "output_type": "execute_result"
    }
   ],
   "source": [
    "labels = [x.label_ for x in firstsentence.ents]\n",
    "Counter(labels)"
   ]
  },
  {
   "cell_type": "code",
   "execution_count": 33,
   "metadata": {},
   "outputs": [
    {
     "data": {
      "text/plain": [
       "[('San Jose', 1),\n",
       " ('California', 1),\n",
       " ('November 23', 1),\n",
       " ('six', 1),\n",
       " ('Samsung', 1),\n",
       " ('Jelly Bean', 1),\n",
       " ('Ice Cream Sandwich', 1),\n",
       " ('Apple', 1),\n",
       " ('\\n', 1)]"
      ]
     },
     "execution_count": 33,
     "metadata": {},
     "output_type": "execute_result"
    }
   ],
   "source": [
    "items = [x.text for x in firstsentence.ents]\n",
    "Counter(items).most_common(10)"
   ]
  },
  {
   "cell_type": "code",
   "execution_count": 35,
   "metadata": {},
   "outputs": [
    {
     "name": "stdout",
     "output_type": "stream",
     "text": [
      "[(https://www.telegraph.co.uk/technology/apple/9702716/Apple-Samsung-lawsuit-six-more-products-under-scrutiny.html, 'O', ''), (\n",
      "\n",
      ", 'O', ''), (Documents, 'O', ''), (filed, 'O', ''), (to, 'O', ''), (the, 'O', ''), (San, 'B', 'GPE'), (Jose, 'I', 'GPE'), (federal, 'O', ''), (court, 'O', ''), (in, 'O', ''), (California, 'B', 'GPE'), (on, 'O', ''), (November, 'B', 'DATE'), (23, 'I', 'DATE'), (list, 'O', ''), (six, 'B', 'CARDINAL'), (Samsung, 'B', 'ORG'), (products, 'O', ''), (running, 'O', ''), (the, 'O', ''), (\", 'O', ''), (Jelly, 'B', 'PERSON'), (Bean, 'I', 'PERSON'), (\", 'O', ''), (and, 'O', ''), (\", 'O', ''), (Ice, 'B', 'WORK_OF_ART'), (Cream, 'I', 'WORK_OF_ART'), (Sandwich, 'I', 'WORK_OF_ART'), (\", 'O', ''), (operating, 'O', ''), (systems, 'O', ''), (,, 'O', ''), (which, 'O', ''), (Apple, 'B', 'ORG'), (claims, 'O', ''), (infringe, 'O', ''), (its, 'O', ''), (patents, 'O', ''), (., 'O', ''), (\n",
      ", 'B', 'GPE')]\n"
     ]
    }
   ],
   "source": [
    "print([(x, x.ent_iob_, x.ent_type_) for x in firstsentence])"
   ]
  },
  {
   "cell_type": "code",
   "execution_count": 36,
   "metadata": {},
   "outputs": [
    {
     "data": {
      "text/html": [
       "<div class=\"entities\" style=\"line-height: 2.5\">https://www.telegraph.co.uk/technology/apple/9702716/Apple-Samsung-lawsuit-six-more-products-under-scrutiny.html</br></br>Documents filed to the \n",
       "<mark class=\"entity\" style=\"background: #feca74; padding: 0.45em 0.6em; margin: 0 0.25em; line-height: 1; border-radius: 0.35em; box-decoration-break: clone; -webkit-box-decoration-break: clone\">\n",
       "    San Jose\n",
       "    <span style=\"font-size: 0.8em; font-weight: bold; line-height: 1; border-radius: 0.35em; text-transform: uppercase; vertical-align: middle; margin-left: 0.5rem\">GPE</span>\n",
       "</mark>\n",
       " federal court in \n",
       "<mark class=\"entity\" style=\"background: #feca74; padding: 0.45em 0.6em; margin: 0 0.25em; line-height: 1; border-radius: 0.35em; box-decoration-break: clone; -webkit-box-decoration-break: clone\">\n",
       "    California\n",
       "    <span style=\"font-size: 0.8em; font-weight: bold; line-height: 1; border-radius: 0.35em; text-transform: uppercase; vertical-align: middle; margin-left: 0.5rem\">GPE</span>\n",
       "</mark>\n",
       " on \n",
       "<mark class=\"entity\" style=\"background: #bfe1d9; padding: 0.45em 0.6em; margin: 0 0.25em; line-height: 1; border-radius: 0.35em; box-decoration-break: clone; -webkit-box-decoration-break: clone\">\n",
       "    November 23\n",
       "    <span style=\"font-size: 0.8em; font-weight: bold; line-height: 1; border-radius: 0.35em; text-transform: uppercase; vertical-align: middle; margin-left: 0.5rem\">DATE</span>\n",
       "</mark>\n",
       " list \n",
       "<mark class=\"entity\" style=\"background: #e4e7d2; padding: 0.45em 0.6em; margin: 0 0.25em; line-height: 1; border-radius: 0.35em; box-decoration-break: clone; -webkit-box-decoration-break: clone\">\n",
       "    six\n",
       "    <span style=\"font-size: 0.8em; font-weight: bold; line-height: 1; border-radius: 0.35em; text-transform: uppercase; vertical-align: middle; margin-left: 0.5rem\">CARDINAL</span>\n",
       "</mark>\n",
       " \n",
       "<mark class=\"entity\" style=\"background: #7aecec; padding: 0.45em 0.6em; margin: 0 0.25em; line-height: 1; border-radius: 0.35em; box-decoration-break: clone; -webkit-box-decoration-break: clone\">\n",
       "    Samsung\n",
       "    <span style=\"font-size: 0.8em; font-weight: bold; line-height: 1; border-radius: 0.35em; text-transform: uppercase; vertical-align: middle; margin-left: 0.5rem\">ORG</span>\n",
       "</mark>\n",
       " products running the \"\n",
       "<mark class=\"entity\" style=\"background: #aa9cfc; padding: 0.45em 0.6em; margin: 0 0.25em; line-height: 1; border-radius: 0.35em; box-decoration-break: clone; -webkit-box-decoration-break: clone\">\n",
       "    Jelly Bean\n",
       "    <span style=\"font-size: 0.8em; font-weight: bold; line-height: 1; border-radius: 0.35em; text-transform: uppercase; vertical-align: middle; margin-left: 0.5rem\">PERSON</span>\n",
       "</mark>\n",
       "\" and \"\n",
       "<mark class=\"entity\" style=\"background: #f0d0ff; padding: 0.45em 0.6em; margin: 0 0.25em; line-height: 1; border-radius: 0.35em; box-decoration-break: clone; -webkit-box-decoration-break: clone\">\n",
       "    Ice Cream Sandwich\n",
       "    <span style=\"font-size: 0.8em; font-weight: bold; line-height: 1; border-radius: 0.35em; text-transform: uppercase; vertical-align: middle; margin-left: 0.5rem\">WORK_OF_ART</span>\n",
       "</mark>\n",
       "\" operating systems, which \n",
       "<mark class=\"entity\" style=\"background: #7aecec; padding: 0.45em 0.6em; margin: 0 0.25em; line-height: 1; border-radius: 0.35em; box-decoration-break: clone; -webkit-box-decoration-break: clone\">\n",
       "    Apple\n",
       "    <span style=\"font-size: 0.8em; font-weight: bold; line-height: 1; border-radius: 0.35em; text-transform: uppercase; vertical-align: middle; margin-left: 0.5rem\">ORG</span>\n",
       "</mark>\n",
       " claims infringe its patents.\n",
       "<mark class=\"entity\" style=\"background: #feca74; padding: 0.45em 0.6em; margin: 0 0.25em; line-height: 1; border-radius: 0.35em; box-decoration-break: clone; -webkit-box-decoration-break: clone\">\n",
       "    \n",
       "\n",
       "    <span style=\"font-size: 0.8em; font-weight: bold; line-height: 1; border-radius: 0.35em; text-transform: uppercase; vertical-align: middle; margin-left: 0.5rem\">GPE</span>\n",
       "</mark>\n",
       "</div>"
      ],
      "text/plain": [
       "<IPython.core.display.HTML object>"
      ]
     },
     "metadata": {},
     "output_type": "display_data"
    }
   ],
   "source": [
    "displacy.render(firstsentence, jupyter=True, style='ent')"
   ]
  },
  {
   "cell_type": "code",
   "execution_count": null,
   "metadata": {},
   "outputs": [],
   "source": []
  }
 ],
 "metadata": {
  "kernelspec": {
   "display_name": "Python 3",
   "language": "python",
   "name": "python3"
  },
  "language_info": {
   "codemirror_mode": {
    "name": "ipython",
    "version": 3
   },
   "file_extension": ".py",
   "mimetype": "text/x-python",
   "name": "python",
   "nbconvert_exporter": "python",
   "pygments_lexer": "ipython3",
   "version": "3.6.5"
  }
 },
 "nbformat": 4,
 "nbformat_minor": 2
}
