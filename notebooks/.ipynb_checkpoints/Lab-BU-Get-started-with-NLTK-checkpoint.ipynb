{
 "cells": [
  {
   "cell_type": "markdown",
   "metadata": {},
   "source": [
    "## NLTK Chapter 1, section 1.2 "
   ]
  },
  {
   "cell_type": "code",
   "execution_count": 1,
   "metadata": {},
   "outputs": [],
   "source": [
    "import nltk  "
   ]
  },
  {
   "cell_type": "markdown",
   "metadata": {},
   "source": [
    "The first time you import nltk on your local machine, you need to download the data sets that are used in the course. You will get a pop-up window to select datasets. The minimal data set you need is  \"book\". Take your time to check out the different TABs and have an idea what is there. Make sure you have sufficient disk space to store what you want.\n",
    "\n",
    "If you did download once, you can skip the next step as the data are in your local drive. If you need another dataset of package, run it again and take your pick."
   ]
  },
  {
   "cell_type": "code",
   "execution_count": 2,
   "metadata": {
    "scrolled": true
   },
   "outputs": [
    {
     "name": "stdout",
     "output_type": "stream",
     "text": [
      "showing info https://raw.githubusercontent.com/nltk/nltk_data/gh-pages/index.xml\n"
     ]
    },
    {
     "data": {
      "text/plain": [
       "True"
      ]
     },
     "execution_count": 2,
     "metadata": {},
     "output_type": "execute_result"
    }
   ],
   "source": [
    "nltk.download() "
   ]
  },
  {
   "cell_type": "markdown",
   "metadata": {},
   "source": [
    "## NLTK Chapter 1, section 3.1 Frequency Distributions"
   ]
  },
  {
   "cell_type": "code",
   "execution_count": 2,
   "metadata": {
    "scrolled": true
   },
   "outputs": [
    {
     "name": "stdout",
     "output_type": "stream",
     "text": [
      "*** Introductory Examples for the NLTK Book ***\n",
      "Loading text1, ..., text9 and sent1, ..., sent9\n",
      "Type the name of the text or sentence to view it.\n",
      "Type: 'texts()' or 'sents()' to list the materials.\n",
      "text1: Moby Dick by Herman Melville 1851\n",
      "text2: Sense and Sensibility by Jane Austen 1811\n",
      "text3: The Book of Genesis\n",
      "text4: Inaugural Address Corpus\n",
      "text5: Chat Corpus\n",
      "text6: Monty Python and the Holy Grail\n",
      "text7: Wall Street Journal\n",
      "text8: Personals Corpus\n",
      "text9: The Man Who Was Thursday by G . K . Chesterton 1908\n",
      "<FreqDist with 19317 samples and 260819 outcomes>\n"
     ]
    },
    {
     "data": {
      "text/plain": [
       "906"
      ]
     },
     "execution_count": 2,
     "metadata": {},
     "output_type": "execute_result"
    }
   ],
   "source": [
    "from nltk.book import *\n",
    "from nltk import FreqDist\n",
    "fdist1 = FreqDist(text1) \n",
    "print(fdist1)\n",
    "fdist1.most_common(50)\n",
    "fdist1['whale']"
   ]
  },
  {
   "cell_type": "markdown",
   "metadata": {},
   "source": [
    "Tip: The best way to go about these assignments is to first read the section in the NLTK book that is mentioned, then start playing around with it. That should give you the hints to deal with an error message such as  \"NameError: name 'FreqDist' is not defined\". \n",
    "\n",
    "It's like cooking a recipe for the first time, you probably want to read the full recipe first, before you start cooking, in case you find out at step 5 that you should have soaked your beans 12 hours in advance.  \n"
   ]
  },
  {
   "cell_type": "markdown",
   "metadata": {},
   "source": [
    "## Tokenisation with NLTK \n",
    "\n",
    "NLTK Chapter 5, section 1 Using a Tagger"
   ]
  },
  {
   "cell_type": "code",
   "execution_count": 8,
   "metadata": {
    "scrolled": true
   },
   "outputs": [
    {
     "data": {
      "text/plain": [
       "[\"I'll\",\n",
       " 'refuse',\n",
       " 'to',\n",
       " 'permit',\n",
       " 'you',\n",
       " 'to',\n",
       " 'obtain',\n",
       " 'the',\n",
       " 'refuse',\n",
       " 'permit.']"
      ]
     },
     "execution_count": 8,
     "metadata": {},
     "output_type": "execute_result"
    }
   ],
   "source": [
    "example_text = \"I'll refuse to permit you to obtain the refuse permit.\"\n",
    "text = example_text.split()\n",
    "text"
   ]
  },
  {
   "cell_type": "markdown",
   "metadata": {},
   "source": [
    "Think about the above line, is it actually the same as tokenising? \n",
    "Let's try a real tokenizer...."
   ]
  },
  {
   "cell_type": "code",
   "execution_count": 9,
   "metadata": {},
   "outputs": [
    {
     "data": {
      "text/plain": [
       "['I',\n",
       " \"'ll\",\n",
       " 'refuse',\n",
       " 'to',\n",
       " 'permit',\n",
       " 'you',\n",
       " 'to',\n",
       " 'obtain',\n",
       " 'the',\n",
       " 'refuse',\n",
       " 'permit',\n",
       " '.']"
      ]
     },
     "execution_count": 9,
     "metadata": {},
     "output_type": "execute_result"
    }
   ],
   "source": [
    "from nltk import word_tokenize\n",
    "text = word_tokenize(\"I'll refuse to permit you to obtain the refuse permit.\")\n",
    "text"
   ]
  },
  {
   "cell_type": "markdown",
   "metadata": {},
   "source": [
    "You can also call the tokenizer directly from NLTK"
   ]
  },
  {
   "cell_type": "code",
   "execution_count": 10,
   "metadata": {},
   "outputs": [
    {
     "data": {
      "text/plain": [
       "['I',\n",
       " \"'ll\",\n",
       " 'refuse',\n",
       " 'to',\n",
       " 'permit',\n",
       " 'you',\n",
       " 'to',\n",
       " 'obtain',\n",
       " 'the',\n",
       " 'refuse',\n",
       " 'permit',\n",
       " '.']"
      ]
     },
     "execution_count": 10,
     "metadata": {},
     "output_type": "execute_result"
    }
   ],
   "source": [
    "text = nltk.word_tokenize(\"I'll refuse to permit you to obtain the refuse permit.\")\n",
    "text"
   ]
  },
  {
   "cell_type": "code",
   "execution_count": 11,
   "metadata": {},
   "outputs": [
    {
     "data": {
      "text/plain": [
       "[('I', 'PRP'),\n",
       " (\"'ll\", 'MD'),\n",
       " ('refuse', 'VB'),\n",
       " ('to', 'TO'),\n",
       " ('permit', 'VB'),\n",
       " ('you', 'PRP'),\n",
       " ('to', 'TO'),\n",
       " ('obtain', 'VB'),\n",
       " ('the', 'DT'),\n",
       " ('refuse', 'NN'),\n",
       " ('permit', 'NN'),\n",
       " ('.', '.')]"
      ]
     },
     "execution_count": 11,
     "metadata": {},
     "output_type": "execute_result"
    }
   ],
   "source": [
    "nltk.pos_tag(text)"
   ]
  },
  {
   "cell_type": "markdown",
   "metadata": {},
   "source": [
    "Task: Make sure you know what each tag means. Would you have tagged each word using the same tag or do you disagree with the tagger? \n",
    "\n",
    "Observe some word contexts to get an idea of why NLTK tags the way it tags (Chapter 1, section 1.3) \n"
   ]
  },
  {
   "cell_type": "markdown",
   "metadata": {},
   "source": [
    "## Some more on cleaning up text and getting the basic forms for words"
   ]
  },
  {
   "cell_type": "code",
   "execution_count": 35,
   "metadata": {},
   "outputs": [],
   "source": [
    "raw_docs = [\"Here are some very simple basic sentences.\",\n",
    "\"They won't be very interesting, I'm afraid.\",\n",
    "\"The point of these examples is to _learn how basic text cleaning works_ on *very simple* data.\"]"
   ]
  },
  {
   "cell_type": "code",
   "execution_count": 36,
   "metadata": {
    "scrolled": false
   },
   "outputs": [
    {
     "name": "stdout",
     "output_type": "stream",
     "text": [
      "[['Here', 'are', 'some', 'very', 'simple', 'basic', 'sentences', '.'], ['They', 'wo', \"n't\", 'be', 'very', 'interesting', ',', 'I', \"'m\", 'afraid', '.'], ['The', 'point', 'of', 'these', 'examples', 'is', 'to', '_learn', 'how', 'basic', 'text', 'cleaning', 'works_', 'on', '*very', 'simple*', 'data', '.']]\n"
     ]
    }
   ],
   "source": [
    "# Tokenizing text into bags of words\n",
    "from nltk.tokenize import word_tokenize\n",
    "tokenized_docs = [word_tokenize(doc) for doc in raw_docs]\n",
    "print(tokenized_docs)"
   ]
  },
  {
   "cell_type": "code",
   "execution_count": 37,
   "metadata": {},
   "outputs": [
    {
     "name": "stdout",
     "output_type": "stream",
     "text": [
      "[['Here', 'are', 'some', 'very', 'simple', 'basic', 'sentences'], ['They', 'wo', 'nt', 'be', 'very', 'interesting', 'I', 'm', 'afraid'], ['The', 'point', 'of', 'these', 'examples', 'is', 'to', 'learn', 'how', 'basic', 'text', 'cleaning', 'works', 'on', 'very', 'simple', 'data']]\n"
     ]
    }
   ],
   "source": [
    "# Removing punctuation\n",
    "import re\n",
    "import string\n",
    "regex = re.compile('[%s]' % re.escape(string.punctuation)) \n",
    "#see documentation here: http://docs.python.org/2/library/string.html\n",
    "\n",
    "tokenized_docs_no_punctuation = []\n",
    "\n",
    "for review in tokenized_docs:\n",
    "    new_review = []\n",
    "    for token in review:\n",
    "        new_token = regex.sub(u'', token)\n",
    "        if not new_token == u'':\n",
    "            new_review.append(new_token)\n",
    "    \n",
    "    tokenized_docs_no_punctuation.append(new_review)\n",
    "    \n",
    "print(tokenized_docs_no_punctuation)"
   ]
  },
  {
   "cell_type": "code",
   "execution_count": 38,
   "metadata": {},
   "outputs": [
    {
     "name": "stdout",
     "output_type": "stream",
     "text": [
      "[['Here', 'simple', 'basic', 'sentences'], ['They', 'wo', 'nt', 'interesting', 'I', 'afraid'], ['The', 'point', 'examples', 'learn', 'basic', 'text', 'cleaning', 'works', 'simple', 'data']]\n"
     ]
    }
   ],
   "source": [
    "# Cleaning text of stopwords\n",
    "from nltk.corpus import stopwords\n",
    "\n",
    "tokenized_docs_no_stopwords = []\n",
    "\n",
    "for doc in tokenized_docs_no_punctuation:\n",
    "    new_term_vector = []\n",
    "    for word in doc:\n",
    "        if not word in stopwords.words('english'):\n",
    "            new_term_vector.append(word)\n",
    "    \n",
    "    tokenized_docs_no_stopwords.append(new_term_vector)\n",
    "\n",
    "print(tokenized_docs_no_stopwords)"
   ]
  },
  {
   "cell_type": "markdown",
   "metadata": {},
   "source": [
    "### Question:\n",
    "What are stopwords and why would you want to remove these from a text?\n",
    "What would be another way to define stop words than making a list?"
   ]
  },
  {
   "cell_type": "markdown",
   "metadata": {},
   "source": [
    "## Stemming and lemmatizing\n",
    "NLTK has various modules for stripping inflection of words (stemming) or finding the lemma (the form you can find in a dicitonary). Below is a script to stem and lemmatize the words in a text example after tokizing the text."
   ]
  },
  {
   "cell_type": "code",
   "execution_count": 33,
   "metadata": {
    "scrolled": true
   },
   "outputs": [],
   "source": [
    "raw=\"SHUT UP! Enough already, Ballstein! Who cares about Derek Zoolander anyway? The man has only one look, for Christ's sake! Blue Steel? Ferrari? Le Tigra?\""
   ]
  },
  {
   "cell_type": "code",
   "execution_count": 47,
   "metadata": {
    "scrolled": true
   },
   "outputs": [
    {
     "name": "stdout",
     "output_type": "stream",
     "text": [
      "Porter\n",
      "['shut', 'UP', '!', 'enough', 'alreadi', ',', 'ballstein', '!', 'who', 'care', 'about', 'derek', 'zooland', 'anyway', '?', 'the', 'man', 'ha', 'onli', 'one', 'look', ',', 'for', 'christ', \"'s\", 'sake', '!', 'blue', 'steel', '?', 'ferrari', '?', 'Le', 'tigra', '?']\n",
      "Snowball\n",
      "['shut', 'up', '!', 'enough', 'alreadi', ',', 'ballstein', '!', 'who', 'care', 'about', 'derek', 'zooland', 'anyway', '?', 'the', 'man', 'has', 'onli', 'one', 'look', ',', 'for', 'christ', \"'s\", 'sake', '!', 'blue', 'steel', '?', 'ferrari', '?', 'le', 'tigra', '?']\n",
      "Wordnet\n",
      "['SHUT', 'UP', '!', 'Enough', 'already', ',', 'Ballstein', '!', 'Who', 'care', 'about', 'Derek', 'Zoolander', 'anyway', '?', 'The', 'man', 'ha', 'only', 'one', 'look', ',', 'for', 'Christ', \"'s\", 'sake', '!', 'Blue', 'Steel', '?', 'Ferrari', '?', 'Le', 'Tigra', '?']\n"
     ]
    }
   ],
   "source": [
    "# Stemming and Lemmatizing\n",
    "from nltk.stem.porter import PorterStemmer\n",
    "from nltk.stem.snowball import SnowballStemmer\n",
    "from nltk.stem.wordnet import WordNetLemmatizer\n",
    "\n",
    "porter = PorterStemmer()\n",
    "snowball = SnowballStemmer('english')\n",
    "wordnet = WordNetLemmatizer()\n",
    "tokens = nltk.word_tokenize(raw)\n",
    "\n",
    "porterlemmas = []\n",
    "wordnetlemmas = []\n",
    "snowballlemmas = []\n",
    "\n",
    "for word in tokens:\n",
    "    porterlemmas.append(porter.stem(word))\n",
    "    snowballlemmas.append(snowball.stem(word))\n",
    "    wordnetlemmas.append(wordnet.lemmatize(word))\n",
    "\n",
    "print('Porter')\n",
    "print(porterlemmas)\n",
    "print('Snowball')\n",
    "print(snowballlemmas)\n",
    "print('Wordnet')\n",
    "print(wordnetlemmas)"
   ]
  },
  {
   "cell_type": "markdown",
   "metadata": {},
   "source": [
    "## Question:\n",
    "What do you notice as a difference? What will be better for finding words in a dictionary? What output is better for looking up entities in Wikipedia?"
   ]
  },
  {
   "cell_type": "markdown",
   "metadata": {},
   "source": [
    "-- Do something on chunking, parsing and dependencies"
   ]
  },
  {
   "cell_type": "code",
   "execution_count": 30,
   "metadata": {},
   "outputs": [],
   "source": [
    "### Working towards the final assignment & further tips & ticks"
   ]
  },
  {
   "cell_type": "code",
   "execution_count": 7,
   "metadata": {},
   "outputs": [
    {
     "data": {
      "text/plain": [
       "['README.txt', 'plot.tok.gt9.5000', 'quote.tok.gt9.5000']"
      ]
     },
     "execution_count": 7,
     "metadata": {},
     "output_type": "execute_result"
    }
   ],
   "source": [
    "## Loading your own text \n",
    "\n",
    "## NLTK Chapter 2, section 1.9\n",
    "\n",
    "from nltk.corpus import PlaintextCorpusReader\n",
    "\n",
    "corpus_root = '/usr/share/dict'\n",
    "corpus_root = '/Users/piek/nltk_data/corpora/subjectivity'\n",
    "\n",
    "wordlists = PlaintextCorpusReader(corpus_root, '.*') \n",
    "\n",
    "wordlists.fileids()\n"
   ]
  },
  {
   "cell_type": "code",
   "execution_count": 9,
   "metadata": {},
   "outputs": [
    {
     "data": {
      "text/plain": [
       "['Subjectivity', 'Dataset', 'v1', '.', '0', ...]"
      ]
     },
     "execution_count": 9,
     "metadata": {},
     "output_type": "execute_result"
    }
   ],
   "source": [
    "wordlists.words('README.txt')"
   ]
  },
  {
   "cell_type": "code",
   "execution_count": 19,
   "metadata": {},
   "outputs": [],
   "source": [
    "import nltk\n",
    "from nltk.tokenize import word_tokenize\n",
    "from nltk.tag import pos_tag\n",
    "from nltk.chunk import ne_chunk\n",
    "from pprint import pprint # for pretty print output"
   ]
  },
  {
   "cell_type": "code",
   "execution_count": 11,
   "metadata": {},
   "outputs": [
    {
     "name": "stdout",
     "output_type": "stream",
     "text": [
      "https://www.telegraph.co.uk/technology/apple/9702716/Apple-Samsung-lawsuit-six-more-products-under-scrutiny.html\n",
      "\n",
      "Documents filed to the San Jose federal court in California on November 23 list six Samsung products running the \"Jelly Bean\" and \"Ice Cream Sandwich\" operating systems, which Apple claims infringe its patents.\n",
      "The six phones and tablets affected are the Galaxy S III, running the new Jelly Bean system, the Galaxy Tab 8.9 Wifi tablet, the Galaxy Tab 2 10.1, Galaxy Rugby Pro and Galaxy S III mini.\n",
      "Apple stated it had “acted quickly and diligently\" in order to \"determine that these newly released products do infringe many of the same claims already asserted by Apple.\"\n",
      "In August, Samsung lost a US patent case to Apple and was ordered to pay its rival $1.05bn (£0.66bn) in damages for copying features of the iPad and iPhone in its Galaxy range of devices. Samsung, which is the world's top mobile phone maker, is appealing the ruling.\n",
      "A similar case in the UK found in Samsung's favour and ordered Apple to publish an apology making clear that the South Korean firm had not copied its iPad when designing its own devices.\n"
     ]
    }
   ],
   "source": [
    "f=open('/Users/piek/Desktop/TextMiningFEW-2019/notebooks/text-mining-example.txt','r')\n",
    "example_text=f.read()\n",
    "print(example_text)"
   ]
  },
  {
   "cell_type": "code",
   "execution_count": 13,
   "metadata": {},
   "outputs": [],
   "source": [
    "def preprocess(sent):\n",
    "    sent = nltk.word_tokenize(sent)\n",
    "    sent = nltk.pos_tag(sent)\n",
    "    return sent"
   ]
  },
  {
   "cell_type": "code",
   "execution_count": 14,
   "metadata": {},
   "outputs": [
    {
     "data": {
      "text/plain": [
       "[('https', 'NN'),\n",
       " (':', ':'),\n",
       " ('//www.telegraph.co.uk/technology/apple/9702716/Apple-Samsung-lawsuit-six-more-products-under-scrutiny.html',\n",
       "  'JJ'),\n",
       " ('Documents', 'NNS'),\n",
       " ('filed', 'VBN'),\n",
       " ('to', 'TO'),\n",
       " ('the', 'DT'),\n",
       " ('San', 'NNP'),\n",
       " ('Jose', 'NNP'),\n",
       " ('federal', 'JJ'),\n",
       " ('court', 'NN'),\n",
       " ('in', 'IN'),\n",
       " ('California', 'NNP'),\n",
       " ('on', 'IN'),\n",
       " ('November', 'NNP'),\n",
       " ('23', 'CD'),\n",
       " ('list', 'NN'),\n",
       " ('six', 'CD'),\n",
       " ('Samsung', 'NNP'),\n",
       " ('products', 'NNS'),\n",
       " ('running', 'VBG'),\n",
       " ('the', 'DT'),\n",
       " ('``', '``'),\n",
       " ('Jelly', 'RB'),\n",
       " ('Bean', 'NNP'),\n",
       " (\"''\", \"''\"),\n",
       " ('and', 'CC'),\n",
       " ('``', '``'),\n",
       " ('Ice', 'NNP'),\n",
       " ('Cream', 'NNP'),\n",
       " ('Sandwich', 'NNP'),\n",
       " (\"''\", \"''\"),\n",
       " ('operating', 'VBG'),\n",
       " ('systems', 'NNS'),\n",
       " (',', ','),\n",
       " ('which', 'WDT'),\n",
       " ('Apple', 'NNP'),\n",
       " ('claims', 'VBZ'),\n",
       " ('infringe', 'VB'),\n",
       " ('its', 'PRP$'),\n",
       " ('patents', 'NNS'),\n",
       " ('.', '.'),\n",
       " ('The', 'DT'),\n",
       " ('six', 'CD'),\n",
       " ('phones', 'NNS'),\n",
       " ('and', 'CC'),\n",
       " ('tablets', 'NNS'),\n",
       " ('affected', 'VBN'),\n",
       " ('are', 'VBP'),\n",
       " ('the', 'DT'),\n",
       " ('Galaxy', 'NNP'),\n",
       " ('S', 'NNP'),\n",
       " ('III', 'NNP'),\n",
       " (',', ','),\n",
       " ('running', 'VBG'),\n",
       " ('the', 'DT'),\n",
       " ('new', 'JJ'),\n",
       " ('Jelly', 'NNP'),\n",
       " ('Bean', 'NNP'),\n",
       " ('system', 'NN'),\n",
       " (',', ','),\n",
       " ('the', 'DT'),\n",
       " ('Galaxy', 'NNP'),\n",
       " ('Tab', 'NNP'),\n",
       " ('8.9', 'CD'),\n",
       " ('Wifi', 'NNP'),\n",
       " ('tablet', 'NN'),\n",
       " (',', ','),\n",
       " ('the', 'DT'),\n",
       " ('Galaxy', 'NNP'),\n",
       " ('Tab', 'NNP'),\n",
       " ('2', 'CD'),\n",
       " ('10.1', 'CD'),\n",
       " (',', ','),\n",
       " ('Galaxy', 'NNP'),\n",
       " ('Rugby', 'NNP'),\n",
       " ('Pro', 'NNP'),\n",
       " ('and', 'CC'),\n",
       " ('Galaxy', 'NNP'),\n",
       " ('S', 'NNP'),\n",
       " ('III', 'NNP'),\n",
       " ('mini', 'NN'),\n",
       " ('.', '.'),\n",
       " ('Apple', 'NNP'),\n",
       " ('stated', 'VBD'),\n",
       " ('it', 'PRP'),\n",
       " ('had', 'VBD'),\n",
       " ('“', 'NNP'),\n",
       " ('acted', 'VBD'),\n",
       " ('quickly', 'RB'),\n",
       " ('and', 'CC'),\n",
       " ('diligently', 'RB'),\n",
       " (\"''\", \"''\"),\n",
       " ('in', 'IN'),\n",
       " ('order', 'NN'),\n",
       " ('to', 'TO'),\n",
       " ('``', '``'),\n",
       " ('determine', 'VB'),\n",
       " ('that', 'IN'),\n",
       " ('these', 'DT'),\n",
       " ('newly', 'RB'),\n",
       " ('released', 'VBN'),\n",
       " ('products', 'NNS'),\n",
       " ('do', 'VBP'),\n",
       " ('infringe', 'VB'),\n",
       " ('many', 'JJ'),\n",
       " ('of', 'IN'),\n",
       " ('the', 'DT'),\n",
       " ('same', 'JJ'),\n",
       " ('claims', 'NNS'),\n",
       " ('already', 'RB'),\n",
       " ('asserted', 'VBN'),\n",
       " ('by', 'IN'),\n",
       " ('Apple', 'NNP'),\n",
       " ('.', '.'),\n",
       " (\"''\", \"''\"),\n",
       " ('In', 'IN'),\n",
       " ('August', 'NNP'),\n",
       " (',', ','),\n",
       " ('Samsung', 'NNP'),\n",
       " ('lost', 'VBD'),\n",
       " ('a', 'DT'),\n",
       " ('US', 'NNP'),\n",
       " ('patent', 'NN'),\n",
       " ('case', 'NN'),\n",
       " ('to', 'TO'),\n",
       " ('Apple', 'NNP'),\n",
       " ('and', 'CC'),\n",
       " ('was', 'VBD'),\n",
       " ('ordered', 'VBN'),\n",
       " ('to', 'TO'),\n",
       " ('pay', 'VB'),\n",
       " ('its', 'PRP$'),\n",
       " ('rival', 'JJ'),\n",
       " ('$', '$'),\n",
       " ('1.05bn', 'CD'),\n",
       " ('(', '('),\n",
       " ('£0.66bn', 'NN'),\n",
       " (')', ')'),\n",
       " ('in', 'IN'),\n",
       " ('damages', 'NNS'),\n",
       " ('for', 'IN'),\n",
       " ('copying', 'VBG'),\n",
       " ('features', 'NNS'),\n",
       " ('of', 'IN'),\n",
       " ('the', 'DT'),\n",
       " ('iPad', 'NN'),\n",
       " ('and', 'CC'),\n",
       " ('iPhone', 'NN'),\n",
       " ('in', 'IN'),\n",
       " ('its', 'PRP$'),\n",
       " ('Galaxy', 'NNP'),\n",
       " ('range', 'NN'),\n",
       " ('of', 'IN'),\n",
       " ('devices', 'NNS'),\n",
       " ('.', '.'),\n",
       " ('Samsung', 'NNP'),\n",
       " (',', ','),\n",
       " ('which', 'WDT'),\n",
       " ('is', 'VBZ'),\n",
       " ('the', 'DT'),\n",
       " ('world', 'NN'),\n",
       " (\"'s\", 'POS'),\n",
       " ('top', 'JJ'),\n",
       " ('mobile', 'NN'),\n",
       " ('phone', 'NN'),\n",
       " ('maker', 'NN'),\n",
       " (',', ','),\n",
       " ('is', 'VBZ'),\n",
       " ('appealing', 'VBG'),\n",
       " ('the', 'DT'),\n",
       " ('ruling', 'NN'),\n",
       " ('.', '.'),\n",
       " ('A', 'DT'),\n",
       " ('similar', 'JJ'),\n",
       " ('case', 'NN'),\n",
       " ('in', 'IN'),\n",
       " ('the', 'DT'),\n",
       " ('UK', 'NNP'),\n",
       " ('found', 'VBD'),\n",
       " ('in', 'IN'),\n",
       " ('Samsung', 'NNP'),\n",
       " (\"'s\", 'POS'),\n",
       " ('favour', 'NN'),\n",
       " ('and', 'CC'),\n",
       " ('ordered', 'VBD'),\n",
       " ('Apple', 'NNP'),\n",
       " ('to', 'TO'),\n",
       " ('publish', 'VB'),\n",
       " ('an', 'DT'),\n",
       " ('apology', 'NN'),\n",
       " ('making', 'VBG'),\n",
       " ('clear', 'JJ'),\n",
       " ('that', 'IN'),\n",
       " ('the', 'DT'),\n",
       " ('South', 'JJ'),\n",
       " ('Korean', 'JJ'),\n",
       " ('firm', 'NN'),\n",
       " ('had', 'VBD'),\n",
       " ('not', 'RB'),\n",
       " ('copied', 'VBN'),\n",
       " ('its', 'PRP$'),\n",
       " ('iPad', 'NN'),\n",
       " ('when', 'WRB'),\n",
       " ('designing', 'VBG'),\n",
       " ('its', 'PRP$'),\n",
       " ('own', 'JJ'),\n",
       " ('devices', 'NNS'),\n",
       " ('.', '.')]"
      ]
     },
     "execution_count": 14,
     "metadata": {},
     "output_type": "execute_result"
    }
   ],
   "source": [
    "sent = preprocess(example_text)\n",
    "sent"
   ]
  },
  {
   "cell_type": "code",
   "execution_count": 15,
   "metadata": {},
   "outputs": [],
   "source": [
    "pattern = 'NP: {<DT>?<JJ>*<NN>}'"
   ]
  },
  {
   "cell_type": "code",
   "execution_count": 16,
   "metadata": {},
   "outputs": [
    {
     "name": "stdout",
     "output_type": "stream",
     "text": [
      "(S\n",
      "  (NP https/NN)\n",
      "  :/:\n",
      "  //www.telegraph.co.uk/technology/apple/9702716/Apple-Samsung-lawsuit-six-more-products-under-scrutiny.html/JJ\n",
      "  Documents/NNS\n",
      "  filed/VBN\n",
      "  to/TO\n",
      "  the/DT\n",
      "  San/NNP\n",
      "  Jose/NNP\n",
      "  (NP federal/JJ court/NN)\n",
      "  in/IN\n",
      "  California/NNP\n",
      "  on/IN\n",
      "  November/NNP\n",
      "  23/CD\n",
      "  (NP list/NN)\n",
      "  six/CD\n",
      "  Samsung/NNP\n",
      "  products/NNS\n",
      "  running/VBG\n",
      "  the/DT\n",
      "  ``/``\n",
      "  Jelly/RB\n",
      "  Bean/NNP\n",
      "  ''/''\n",
      "  and/CC\n",
      "  ``/``\n",
      "  Ice/NNP\n",
      "  Cream/NNP\n",
      "  Sandwich/NNP\n",
      "  ''/''\n",
      "  operating/VBG\n",
      "  systems/NNS\n",
      "  ,/,\n",
      "  which/WDT\n",
      "  Apple/NNP\n",
      "  claims/VBZ\n",
      "  infringe/VB\n",
      "  its/PRP$\n",
      "  patents/NNS\n",
      "  ./.\n",
      "  The/DT\n",
      "  six/CD\n",
      "  phones/NNS\n",
      "  and/CC\n",
      "  tablets/NNS\n",
      "  affected/VBN\n",
      "  are/VBP\n",
      "  the/DT\n",
      "  Galaxy/NNP\n",
      "  S/NNP\n",
      "  III/NNP\n",
      "  ,/,\n",
      "  running/VBG\n",
      "  the/DT\n",
      "  new/JJ\n",
      "  Jelly/NNP\n",
      "  Bean/NNP\n",
      "  (NP system/NN)\n",
      "  ,/,\n",
      "  the/DT\n",
      "  Galaxy/NNP\n",
      "  Tab/NNP\n",
      "  8.9/CD\n",
      "  Wifi/NNP\n",
      "  (NP tablet/NN)\n",
      "  ,/,\n",
      "  the/DT\n",
      "  Galaxy/NNP\n",
      "  Tab/NNP\n",
      "  2/CD\n",
      "  10.1/CD\n",
      "  ,/,\n",
      "  Galaxy/NNP\n",
      "  Rugby/NNP\n",
      "  Pro/NNP\n",
      "  and/CC\n",
      "  Galaxy/NNP\n",
      "  S/NNP\n",
      "  III/NNP\n",
      "  (NP mini/NN)\n",
      "  ./.\n",
      "  Apple/NNP\n",
      "  stated/VBD\n",
      "  it/PRP\n",
      "  had/VBD\n",
      "  “/NNP\n",
      "  acted/VBD\n",
      "  quickly/RB\n",
      "  and/CC\n",
      "  diligently/RB\n",
      "  ''/''\n",
      "  in/IN\n",
      "  (NP order/NN)\n",
      "  to/TO\n",
      "  ``/``\n",
      "  determine/VB\n",
      "  that/IN\n",
      "  these/DT\n",
      "  newly/RB\n",
      "  released/VBN\n",
      "  products/NNS\n",
      "  do/VBP\n",
      "  infringe/VB\n",
      "  many/JJ\n",
      "  of/IN\n",
      "  the/DT\n",
      "  same/JJ\n",
      "  claims/NNS\n",
      "  already/RB\n",
      "  asserted/VBN\n",
      "  by/IN\n",
      "  Apple/NNP\n",
      "  ./.\n",
      "  ''/''\n",
      "  In/IN\n",
      "  August/NNP\n",
      "  ,/,\n",
      "  Samsung/NNP\n",
      "  lost/VBD\n",
      "  a/DT\n",
      "  US/NNP\n",
      "  (NP patent/NN)\n",
      "  (NP case/NN)\n",
      "  to/TO\n",
      "  Apple/NNP\n",
      "  and/CC\n",
      "  was/VBD\n",
      "  ordered/VBN\n",
      "  to/TO\n",
      "  pay/VB\n",
      "  its/PRP$\n",
      "  rival/JJ\n",
      "  $/$\n",
      "  1.05bn/CD\n",
      "  (/(\n",
      "  (NP £0.66bn/NN)\n",
      "  )/)\n",
      "  in/IN\n",
      "  damages/NNS\n",
      "  for/IN\n",
      "  copying/VBG\n",
      "  features/NNS\n",
      "  of/IN\n",
      "  (NP the/DT iPad/NN)\n",
      "  and/CC\n",
      "  (NP iPhone/NN)\n",
      "  in/IN\n",
      "  its/PRP$\n",
      "  Galaxy/NNP\n",
      "  (NP range/NN)\n",
      "  of/IN\n",
      "  devices/NNS\n",
      "  ./.\n",
      "  Samsung/NNP\n",
      "  ,/,\n",
      "  which/WDT\n",
      "  is/VBZ\n",
      "  (NP the/DT world/NN)\n",
      "  's/POS\n",
      "  (NP top/JJ mobile/NN)\n",
      "  (NP phone/NN)\n",
      "  (NP maker/NN)\n",
      "  ,/,\n",
      "  is/VBZ\n",
      "  appealing/VBG\n",
      "  (NP the/DT ruling/NN)\n",
      "  ./.\n",
      "  (NP A/DT similar/JJ case/NN)\n",
      "  in/IN\n",
      "  the/DT\n",
      "  UK/NNP\n",
      "  found/VBD\n",
      "  in/IN\n",
      "  Samsung/NNP\n",
      "  's/POS\n",
      "  (NP favour/NN)\n",
      "  and/CC\n",
      "  ordered/VBD\n",
      "  Apple/NNP\n",
      "  to/TO\n",
      "  publish/VB\n",
      "  (NP an/DT apology/NN)\n",
      "  making/VBG\n",
      "  clear/JJ\n",
      "  that/IN\n",
      "  (NP the/DT South/JJ Korean/JJ firm/NN)\n",
      "  had/VBD\n",
      "  not/RB\n",
      "  copied/VBN\n",
      "  its/PRP$\n",
      "  (NP iPad/NN)\n",
      "  when/WRB\n",
      "  designing/VBG\n",
      "  its/PRP$\n",
      "  own/JJ\n",
      "  devices/NNS\n",
      "  ./.)\n"
     ]
    }
   ],
   "source": [
    "cp = nltk.RegexpParser(pattern)\n",
    "cs = cp.parse(sent)\n",
    "print(cs)"
   ]
  },
  {
   "cell_type": "code",
   "execution_count": 17,
   "metadata": {},
   "outputs": [],
   "source": [
    "NPChunker = nltk.RegexpParser(pattern) \n",
    "result = NPChunker.parse(sent)\n",
    "result.draw()"
   ]
  },
  {
   "cell_type": "code",
   "execution_count": 20,
   "metadata": {},
   "outputs": [
    {
     "name": "stdout",
     "output_type": "stream",
     "text": [
      "[('https', 'NN', 'B-NP'),\n",
      " (':', ':', 'O'),\n",
      " ('//www.telegraph.co.uk/technology/apple/9702716/Apple-Samsung-lawsuit-six-more-products-under-scrutiny.html',\n",
      "  'JJ',\n",
      "  'O'),\n",
      " ('Documents', 'NNS', 'O'),\n",
      " ('filed', 'VBN', 'O'),\n",
      " ('to', 'TO', 'O'),\n",
      " ('the', 'DT', 'O'),\n",
      " ('San', 'NNP', 'O'),\n",
      " ('Jose', 'NNP', 'O'),\n",
      " ('federal', 'JJ', 'B-NP'),\n",
      " ('court', 'NN', 'I-NP'),\n",
      " ('in', 'IN', 'O'),\n",
      " ('California', 'NNP', 'O'),\n",
      " ('on', 'IN', 'O'),\n",
      " ('November', 'NNP', 'O'),\n",
      " ('23', 'CD', 'O'),\n",
      " ('list', 'NN', 'B-NP'),\n",
      " ('six', 'CD', 'O'),\n",
      " ('Samsung', 'NNP', 'O'),\n",
      " ('products', 'NNS', 'O'),\n",
      " ('running', 'VBG', 'O'),\n",
      " ('the', 'DT', 'O'),\n",
      " ('``', '``', 'O'),\n",
      " ('Jelly', 'RB', 'O'),\n",
      " ('Bean', 'NNP', 'O'),\n",
      " (\"''\", \"''\", 'O'),\n",
      " ('and', 'CC', 'O'),\n",
      " ('``', '``', 'O'),\n",
      " ('Ice', 'NNP', 'O'),\n",
      " ('Cream', 'NNP', 'O'),\n",
      " ('Sandwich', 'NNP', 'O'),\n",
      " (\"''\", \"''\", 'O'),\n",
      " ('operating', 'VBG', 'O'),\n",
      " ('systems', 'NNS', 'O'),\n",
      " (',', ',', 'O'),\n",
      " ('which', 'WDT', 'O'),\n",
      " ('Apple', 'NNP', 'O'),\n",
      " ('claims', 'VBZ', 'O'),\n",
      " ('infringe', 'VB', 'O'),\n",
      " ('its', 'PRP$', 'O'),\n",
      " ('patents', 'NNS', 'O'),\n",
      " ('.', '.', 'O'),\n",
      " ('The', 'DT', 'O'),\n",
      " ('six', 'CD', 'O'),\n",
      " ('phones', 'NNS', 'O'),\n",
      " ('and', 'CC', 'O'),\n",
      " ('tablets', 'NNS', 'O'),\n",
      " ('affected', 'VBN', 'O'),\n",
      " ('are', 'VBP', 'O'),\n",
      " ('the', 'DT', 'O'),\n",
      " ('Galaxy', 'NNP', 'O'),\n",
      " ('S', 'NNP', 'O'),\n",
      " ('III', 'NNP', 'O'),\n",
      " (',', ',', 'O'),\n",
      " ('running', 'VBG', 'O'),\n",
      " ('the', 'DT', 'O'),\n",
      " ('new', 'JJ', 'O'),\n",
      " ('Jelly', 'NNP', 'O'),\n",
      " ('Bean', 'NNP', 'O'),\n",
      " ('system', 'NN', 'B-NP'),\n",
      " (',', ',', 'O'),\n",
      " ('the', 'DT', 'O'),\n",
      " ('Galaxy', 'NNP', 'O'),\n",
      " ('Tab', 'NNP', 'O'),\n",
      " ('8.9', 'CD', 'O'),\n",
      " ('Wifi', 'NNP', 'O'),\n",
      " ('tablet', 'NN', 'B-NP'),\n",
      " (',', ',', 'O'),\n",
      " ('the', 'DT', 'O'),\n",
      " ('Galaxy', 'NNP', 'O'),\n",
      " ('Tab', 'NNP', 'O'),\n",
      " ('2', 'CD', 'O'),\n",
      " ('10.1', 'CD', 'O'),\n",
      " (',', ',', 'O'),\n",
      " ('Galaxy', 'NNP', 'O'),\n",
      " ('Rugby', 'NNP', 'O'),\n",
      " ('Pro', 'NNP', 'O'),\n",
      " ('and', 'CC', 'O'),\n",
      " ('Galaxy', 'NNP', 'O'),\n",
      " ('S', 'NNP', 'O'),\n",
      " ('III', 'NNP', 'O'),\n",
      " ('mini', 'NN', 'B-NP'),\n",
      " ('.', '.', 'O'),\n",
      " ('Apple', 'NNP', 'O'),\n",
      " ('stated', 'VBD', 'O'),\n",
      " ('it', 'PRP', 'O'),\n",
      " ('had', 'VBD', 'O'),\n",
      " ('“', 'NNP', 'O'),\n",
      " ('acted', 'VBD', 'O'),\n",
      " ('quickly', 'RB', 'O'),\n",
      " ('and', 'CC', 'O'),\n",
      " ('diligently', 'RB', 'O'),\n",
      " (\"''\", \"''\", 'O'),\n",
      " ('in', 'IN', 'O'),\n",
      " ('order', 'NN', 'B-NP'),\n",
      " ('to', 'TO', 'O'),\n",
      " ('``', '``', 'O'),\n",
      " ('determine', 'VB', 'O'),\n",
      " ('that', 'IN', 'O'),\n",
      " ('these', 'DT', 'O'),\n",
      " ('newly', 'RB', 'O'),\n",
      " ('released', 'VBN', 'O'),\n",
      " ('products', 'NNS', 'O'),\n",
      " ('do', 'VBP', 'O'),\n",
      " ('infringe', 'VB', 'O'),\n",
      " ('many', 'JJ', 'O'),\n",
      " ('of', 'IN', 'O'),\n",
      " ('the', 'DT', 'O'),\n",
      " ('same', 'JJ', 'O'),\n",
      " ('claims', 'NNS', 'O'),\n",
      " ('already', 'RB', 'O'),\n",
      " ('asserted', 'VBN', 'O'),\n",
      " ('by', 'IN', 'O'),\n",
      " ('Apple', 'NNP', 'O'),\n",
      " ('.', '.', 'O'),\n",
      " (\"''\", \"''\", 'O'),\n",
      " ('In', 'IN', 'O'),\n",
      " ('August', 'NNP', 'O'),\n",
      " (',', ',', 'O'),\n",
      " ('Samsung', 'NNP', 'O'),\n",
      " ('lost', 'VBD', 'O'),\n",
      " ('a', 'DT', 'O'),\n",
      " ('US', 'NNP', 'O'),\n",
      " ('patent', 'NN', 'B-NP'),\n",
      " ('case', 'NN', 'B-NP'),\n",
      " ('to', 'TO', 'O'),\n",
      " ('Apple', 'NNP', 'O'),\n",
      " ('and', 'CC', 'O'),\n",
      " ('was', 'VBD', 'O'),\n",
      " ('ordered', 'VBN', 'O'),\n",
      " ('to', 'TO', 'O'),\n",
      " ('pay', 'VB', 'O'),\n",
      " ('its', 'PRP$', 'O'),\n",
      " ('rival', 'JJ', 'O'),\n",
      " ('$', '$', 'O'),\n",
      " ('1.05bn', 'CD', 'O'),\n",
      " ('(', '(', 'O'),\n",
      " ('£0.66bn', 'NN', 'B-NP'),\n",
      " (')', ')', 'O'),\n",
      " ('in', 'IN', 'O'),\n",
      " ('damages', 'NNS', 'O'),\n",
      " ('for', 'IN', 'O'),\n",
      " ('copying', 'VBG', 'O'),\n",
      " ('features', 'NNS', 'O'),\n",
      " ('of', 'IN', 'O'),\n",
      " ('the', 'DT', 'B-NP'),\n",
      " ('iPad', 'NN', 'I-NP'),\n",
      " ('and', 'CC', 'O'),\n",
      " ('iPhone', 'NN', 'B-NP'),\n",
      " ('in', 'IN', 'O'),\n",
      " ('its', 'PRP$', 'O'),\n",
      " ('Galaxy', 'NNP', 'O'),\n",
      " ('range', 'NN', 'B-NP'),\n",
      " ('of', 'IN', 'O'),\n",
      " ('devices', 'NNS', 'O'),\n",
      " ('.', '.', 'O'),\n",
      " ('Samsung', 'NNP', 'O'),\n",
      " (',', ',', 'O'),\n",
      " ('which', 'WDT', 'O'),\n",
      " ('is', 'VBZ', 'O'),\n",
      " ('the', 'DT', 'B-NP'),\n",
      " ('world', 'NN', 'I-NP'),\n",
      " (\"'s\", 'POS', 'O'),\n",
      " ('top', 'JJ', 'B-NP'),\n",
      " ('mobile', 'NN', 'I-NP'),\n",
      " ('phone', 'NN', 'B-NP'),\n",
      " ('maker', 'NN', 'B-NP'),\n",
      " (',', ',', 'O'),\n",
      " ('is', 'VBZ', 'O'),\n",
      " ('appealing', 'VBG', 'O'),\n",
      " ('the', 'DT', 'B-NP'),\n",
      " ('ruling', 'NN', 'I-NP'),\n",
      " ('.', '.', 'O'),\n",
      " ('A', 'DT', 'B-NP'),\n",
      " ('similar', 'JJ', 'I-NP'),\n",
      " ('case', 'NN', 'I-NP'),\n",
      " ('in', 'IN', 'O'),\n",
      " ('the', 'DT', 'O'),\n",
      " ('UK', 'NNP', 'O'),\n",
      " ('found', 'VBD', 'O'),\n",
      " ('in', 'IN', 'O'),\n",
      " ('Samsung', 'NNP', 'O'),\n",
      " (\"'s\", 'POS', 'O'),\n",
      " ('favour', 'NN', 'B-NP'),\n",
      " ('and', 'CC', 'O'),\n",
      " ('ordered', 'VBD', 'O'),\n",
      " ('Apple', 'NNP', 'O'),\n",
      " ('to', 'TO', 'O'),\n",
      " ('publish', 'VB', 'O'),\n",
      " ('an', 'DT', 'B-NP'),\n",
      " ('apology', 'NN', 'I-NP'),\n",
      " ('making', 'VBG', 'O'),\n",
      " ('clear', 'JJ', 'O'),\n",
      " ('that', 'IN', 'O'),\n",
      " ('the', 'DT', 'B-NP'),\n",
      " ('South', 'JJ', 'I-NP'),\n",
      " ('Korean', 'JJ', 'I-NP'),\n",
      " ('firm', 'NN', 'I-NP'),\n",
      " ('had', 'VBD', 'O'),\n",
      " ('not', 'RB', 'O'),\n",
      " ('copied', 'VBN', 'O'),\n",
      " ('its', 'PRP$', 'O'),\n",
      " ('iPad', 'NN', 'B-NP'),\n",
      " ('when', 'WRB', 'O'),\n",
      " ('designing', 'VBG', 'O'),\n",
      " ('its', 'PRP$', 'O'),\n",
      " ('own', 'JJ', 'O'),\n",
      " ('devices', 'NNS', 'O'),\n",
      " ('.', '.', 'O')]\n"
     ]
    }
   ],
   "source": [
    "from nltk.chunk import conlltags2tree, tree2conlltags\n",
    "iob_tagged = tree2conlltags(cs)\n",
    "pprint(iob_tagged)"
   ]
  },
  {
   "cell_type": "code",
   "execution_count": 22,
   "metadata": {},
   "outputs": [
    {
     "name": "stdout",
     "output_type": "stream",
     "text": [
      "(S\n",
      "  https/NN\n",
      "  :/:\n",
      "  //www.telegraph.co.uk/technology/apple/9702716/Apple-Samsung-lawsuit-six-more-products-under-scrutiny.html/JJ\n",
      "  Documents/NNS\n",
      "  filed/VBN\n",
      "  to/TO\n",
      "  the/DT\n",
      "  (ORGANIZATION San/NNP Jose/NNP)\n",
      "  federal/JJ\n",
      "  court/NN\n",
      "  in/IN\n",
      "  (GPE California/NNP)\n",
      "  on/IN\n",
      "  November/NNP\n",
      "  23/CD\n",
      "  list/NN\n",
      "  six/CD\n",
      "  (ORGANIZATION Samsung/NNP)\n",
      "  products/NNS\n",
      "  running/VBG\n",
      "  the/DT\n",
      "  ``/``\n",
      "  Jelly/RB\n",
      "  (GPE Bean/NNP)\n",
      "  ''/''\n",
      "  and/CC\n",
      "  ``/``\n",
      "  Ice/NNP\n",
      "  Cream/NNP\n",
      "  Sandwich/NNP\n",
      "  ''/''\n",
      "  operating/VBG\n",
      "  systems/NNS\n",
      "  ,/,\n",
      "  which/WDT\n",
      "  (PERSON Apple/NNP)\n",
      "  claims/VBZ\n",
      "  infringe/VB\n",
      "  its/PRP$\n",
      "  patents/NNS\n",
      "  ./.\n",
      "  The/DT\n",
      "  six/CD\n",
      "  phones/NNS\n",
      "  and/CC\n",
      "  tablets/NNS\n",
      "  affected/VBN\n",
      "  are/VBP\n",
      "  the/DT\n",
      "  (ORGANIZATION Galaxy/NNP)\n",
      "  S/NNP\n",
      "  III/NNP\n",
      "  ,/,\n",
      "  running/VBG\n",
      "  the/DT\n",
      "  new/JJ\n",
      "  (PERSON Jelly/NNP Bean/NNP)\n",
      "  system/NN\n",
      "  ,/,\n",
      "  the/DT\n",
      "  (ORGANIZATION Galaxy/NNP)\n",
      "  Tab/NNP\n",
      "  8.9/CD\n",
      "  Wifi/NNP\n",
      "  tablet/NN\n",
      "  ,/,\n",
      "  the/DT\n",
      "  (ORGANIZATION Galaxy/NNP)\n",
      "  Tab/NNP\n",
      "  2/CD\n",
      "  10.1/CD\n",
      "  ,/,\n",
      "  (PERSON Galaxy/NNP Rugby/NNP Pro/NNP)\n",
      "  and/CC\n",
      "  (PERSON Galaxy/NNP S/NNP)\n",
      "  III/NNP\n",
      "  mini/NN\n",
      "  ./.\n",
      "  (PERSON Apple/NNP)\n",
      "  stated/VBD\n",
      "  it/PRP\n",
      "  had/VBD\n",
      "  “/NNP\n",
      "  acted/VBD\n",
      "  quickly/RB\n",
      "  and/CC\n",
      "  diligently/RB\n",
      "  ''/''\n",
      "  in/IN\n",
      "  order/NN\n",
      "  to/TO\n",
      "  ``/``\n",
      "  determine/VB\n",
      "  that/IN\n",
      "  these/DT\n",
      "  newly/RB\n",
      "  released/VBN\n",
      "  products/NNS\n",
      "  do/VBP\n",
      "  infringe/VB\n",
      "  many/JJ\n",
      "  of/IN\n",
      "  the/DT\n",
      "  same/JJ\n",
      "  claims/NNS\n",
      "  already/RB\n",
      "  asserted/VBN\n",
      "  by/IN\n",
      "  (PERSON Apple/NNP)\n",
      "  ./.\n",
      "  ''/''\n",
      "  In/IN\n",
      "  (GPE August/NNP)\n",
      "  ,/,\n",
      "  (PERSON Samsung/NNP)\n",
      "  lost/VBD\n",
      "  a/DT\n",
      "  (GSP US/NNP)\n",
      "  patent/NN\n",
      "  case/NN\n",
      "  to/TO\n",
      "  (GPE Apple/NNP)\n",
      "  and/CC\n",
      "  was/VBD\n",
      "  ordered/VBN\n",
      "  to/TO\n",
      "  pay/VB\n",
      "  its/PRP$\n",
      "  rival/JJ\n",
      "  $/$\n",
      "  1.05bn/CD\n",
      "  (/(\n",
      "  £0.66bn/NN\n",
      "  )/)\n",
      "  in/IN\n",
      "  damages/NNS\n",
      "  for/IN\n",
      "  copying/VBG\n",
      "  features/NNS\n",
      "  of/IN\n",
      "  the/DT\n",
      "  (ORGANIZATION iPad/NN)\n",
      "  and/CC\n",
      "  (ORGANIZATION iPhone/NN)\n",
      "  in/IN\n",
      "  its/PRP$\n",
      "  (GPE Galaxy/NNP)\n",
      "  range/NN\n",
      "  of/IN\n",
      "  devices/NNS\n",
      "  ./.\n",
      "  (PERSON Samsung/NNP)\n",
      "  ,/,\n",
      "  which/WDT\n",
      "  is/VBZ\n",
      "  the/DT\n",
      "  world/NN\n",
      "  's/POS\n",
      "  top/JJ\n",
      "  mobile/NN\n",
      "  phone/NN\n",
      "  maker/NN\n",
      "  ,/,\n",
      "  is/VBZ\n",
      "  appealing/VBG\n",
      "  the/DT\n",
      "  ruling/NN\n",
      "  ./.\n",
      "  A/DT\n",
      "  similar/JJ\n",
      "  case/NN\n",
      "  in/IN\n",
      "  the/DT\n",
      "  (ORGANIZATION UK/NNP)\n",
      "  found/VBD\n",
      "  in/IN\n",
      "  (GPE Samsung/NNP)\n",
      "  's/POS\n",
      "  favour/NN\n",
      "  and/CC\n",
      "  ordered/VBD\n",
      "  (PERSON Apple/NNP)\n",
      "  to/TO\n",
      "  publish/VB\n",
      "  an/DT\n",
      "  apology/NN\n",
      "  making/VBG\n",
      "  clear/JJ\n",
      "  that/IN\n",
      "  the/DT\n",
      "  (LOCATION South/JJ Korean/JJ)\n",
      "  firm/NN\n",
      "  had/VBD\n",
      "  not/RB\n",
      "  copied/VBN\n",
      "  its/PRP$\n",
      "  iPad/NN\n",
      "  when/WRB\n",
      "  designing/VBG\n",
      "  its/PRP$\n",
      "  own/JJ\n",
      "  devices/NNS\n",
      "  ./.)\n"
     ]
    }
   ],
   "source": [
    "ne_tree = ne_chunk(sent)\n",
    "print(ne_tree)"
   ]
  },
  {
   "cell_type": "markdown",
   "metadata": {},
   "source": [
    "== START OF THE LAB ASSIGNMENT == "
   ]
  },
  {
   "cell_type": "markdown",
   "metadata": {},
   "source": [
    "This lab assignment consists of 3 parts: Sentence Boundary detection, Reading Tagged Corpora and Stemming . Submit your ipynb with the answers via Canvas. Please note that submissions should contain a title, your names and a description of the assignment, such that the document is interpretable on its own. At the least this means copying the task description!\n",
    "\n",
    "You don't need to provide a long explanation for your commands, simply the commands you used, and maybe some output will suffice. We will strive to give you feedback before the next Lab session."
   ]
  },
  {
   "cell_type": "markdown",
   "metadata": {},
   "source": [
    "### Sentence boundary detection with NLTK"
   ]
  },
  {
   "cell_type": "markdown",
   "metadata": {},
   "source": [
    "NLTK offers a sentence boundary detection function, similar to the word tokenisation function. It is called sent_tokenize(). Submit the commands that you use to print the last sentence of a sentence split text using NLTK. The task can be carried out in 4 or 5 steps. \n",
    "\n",
    "- Create a string that contains several sentences. \n",
    "- Import the sent_tokenize function \n",
    "- Tokenize / detect sentence boundaries in your text and store the results in a list \n",
    "- Get the number of sentences (number of list items) (can be skipped for those more familiar with Python) \n",
    "- print the last sentence"
   ]
  },
  {
   "cell_type": "code",
   "execution_count": null,
   "metadata": {},
   "outputs": [],
   "source": [
    "# Provide your answer here"
   ]
  },
  {
   "cell_type": "markdown",
   "metadata": {},
   "source": [
    "### NLTK Chapter 5, Section 2.2 & 2.3 Reading tagged corpora"
   ]
  },
  {
   "cell_type": "markdown",
   "metadata": {},
   "source": [
    "Task: NLTK contains a Dutch tagged corpus, can you print the most common tags from it? \n",
    "\n",
    "For this you need to know that the Dutch tags are contained in the conll2002 corpus. \n",
    "\n",
    "The conll2002 corpus also contains Spanish text, so you need to only read in the Dutch part. \n",
    "\n",
    "You can check what types of information the corpus class contains with the dir command. \n",
    "\n",
    "When you create a subset of the conll corpus, you need to include the files that start with 'ned'.\n",
    "\n",
    "Check the example of getting the 10 most common tags from the Brown corpus in Section 2.3 of chapter 5.\n",
    "\n",
    "Note: the conll2002  corpus doesn't contain the universal POS tagset."
   ]
  },
  {
   "cell_type": "code",
   "execution_count": null,
   "metadata": {},
   "outputs": [],
   "source": [
    "# Provide your answer here"
   ]
  },
  {
   "cell_type": "markdown",
   "metadata": {},
   "source": [
    "### Error propagation \n",
    "(this means that an error in an earlier step of the pipeline, for example in the tokeniser, later steps harms, see http://ceur-ws.org/Vol-1386/piling_up.pdf for a more in-depth discussion) \n",
    "\n",
    "Tokenisation and POS-tagging are often used as pre-processing steps for higher level tasks such as named entity recognition. If you run the text \"SHUT UP! Enough already, Ballstein! Who cares about Derek Zoolander anyway? The man has only one look, for Christ's sake! Blue Steel? Ferrari? Le Tigra?\" through NLTK's tokeniser and POS-tagger, which errors do you think may arise that can harm the named entity recogniser at a later stage? "
   ]
  },
  {
   "cell_type": "code",
   "execution_count": null,
   "metadata": {},
   "outputs": [],
   "source": [
    "# Provide your answer here"
   ]
  },
  {
   "cell_type": "markdown",
   "metadata": {},
   "source": [
    "== END OF THE LAB ASSIGNMENT =="
   ]
  },
  {
   "cell_type": "markdown",
   "metadata": {},
   "source": [
    "--------------------------------------\n",
    "Homework/Working towards the final assignment:\n",
    "\n",
    "Check out the data for the final assignment and tokenise and POS tag the texts you selected. You find the link and description of the data in \"Course Documents\".\n",
    "\n",
    "If you perform these steps now, and document them for yourself, you can 'grow' your data for the final assignment. \n",
    "\n",
    "--------------------------------------\n",
    "\n",
    "Tips and tricks:\n",
    "\n",
    "If you are not familiar with storing your code in scripts (for easy reuse) you can find some suggestions in Chapter 2, section 3\n",
    "\n",
    "--------------------------------------\n",
    "\n",
    "Further reading & hacking: \n",
    "\n",
    "More information on dealing with character encodings:\n",
    "\n",
    "NLTK 3.3 http://www.nltk.org/book/ch03.html#sec-unicode \n",
    "\n",
    "Should you be interested in tokenising and POS tagging text in languages other than Dutch, you can find information on training your own tokeniser for a variety of languages at:\n",
    "\n",
    "http://textminingonline.com/dive-into-nltk-part-ii-sentence-tokenize-and-word-tokenize"
   ]
  }
 ],
 "metadata": {
  "kernelspec": {
   "display_name": "Python 3",
   "language": "python",
   "name": "python3"
  },
  "language_info": {
   "codemirror_mode": {
    "name": "ipython",
    "version": 3
   },
   "file_extension": ".py",
   "mimetype": "text/x-python",
   "name": "python",
   "nbconvert_exporter": "python",
   "pygments_lexer": "ipython3",
   "version": "3.6.5"
  }
 },
 "nbformat": 4,
 "nbformat_minor": 2
}
