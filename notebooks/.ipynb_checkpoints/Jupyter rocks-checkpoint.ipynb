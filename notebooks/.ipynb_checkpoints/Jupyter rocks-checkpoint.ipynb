{
 "cells": [
  {
   "cell_type": "code",
   "execution_count": 1,
   "metadata": {},
   "outputs": [
    {
     "name": "stdout",
     "output_type": "stream",
     "text": [
      "Collecting flair\n",
      "\u001b[?25l  Downloading https://files.pythonhosted.org/packages/cc/6a/fea4f9533feea65f8b2ff3d6a9934dba6227df81bbc180915cbd30c5db95/flair-0.4.0.tar.gz (70kB)\n",
      "\u001b[K    100% |████████████████████████████████| 71kB 2.2MB/s ta 0:00:011\n",
      "\u001b[?25hCollecting torch==1.0.0 (from flair)\n",
      "\u001b[?25l  Downloading https://files.pythonhosted.org/packages/d0/47/068dc7020fd8cf89cca74a16690e274fb55c08684bcaece11348d98264f0/torch-1.0.0-cp36-none-macosx_10_7_x86_64.whl (61.4MB)\n",
      "\u001b[K    100% |████████████████████████████████| 61.4MB 358kB/s ta 0:00:011    86% |███████████████████████████▉    | 53.4MB 8.8MB/s eta 0:00:01\n",
      "\u001b[?25hRequirement already satisfied: gensim==3.4.0 in /anaconda3/lib/python3.6/site-packages (from flair) (3.4.0)\n",
      "Requirement already satisfied: typing==3.6.4 in /anaconda3/lib/python3.6/site-packages (from flair) (3.6.4)\n",
      "Requirement already satisfied: tqdm==4.26.0 in /anaconda3/lib/python3.6/site-packages (from flair) (4.26.0)\n",
      "Collecting segtok==1.5.7 (from flair)\n",
      "  Downloading https://files.pythonhosted.org/packages/1d/59/6ed78856ab99d2da04084b59e7da797972baa0efecb71546b16d48e49d9b/segtok-1.5.7.tar.gz\n",
      "Collecting matplotlib==3.0.0 (from flair)\n",
      "\u001b[?25l  Downloading https://files.pythonhosted.org/packages/f0/de/49aea99b9d088ce4457b5b171c016173347eba7b79753cdacbbd7da89dee/matplotlib-3.0.0-cp36-cp36m-macosx_10_6_intel.macosx_10_9_intel.macosx_10_9_x86_64.macosx_10_10_intel.macosx_10_10_x86_64.whl (14.1MB)\n",
      "\u001b[K    100% |████████████████████████████████| 14.1MB 1.2MB/s eta 0:00:01\n",
      "\u001b[?25hCollecting mpld3==0.3 (from flair)\n",
      "\u001b[?25l  Downloading https://files.pythonhosted.org/packages/91/95/a52d3a83d0a29ba0d6898f6727e9858fe7a43f6c2ce81a5fe7e05f0f4912/mpld3-0.3.tar.gz (788kB)\n",
      "\u001b[K    100% |████████████████████████████████| 798kB 7.3MB/s ta 0:00:011\n",
      "\u001b[?25hCollecting sklearn (from flair)\n",
      "  Downloading https://files.pythonhosted.org/packages/1e/7a/dbb3be0ce9bd5c8b7e3d87328e79063f8b263b2b1bfa4774cb1147bfcd3f/sklearn-0.0.tar.gz\n",
      "Collecting sqlitedict==1.6.0 (from flair)\n",
      "  Downloading https://files.pythonhosted.org/packages/0f/1c/c757b93147a219cf1e25cef7e1ad9b595b7f802159493c45ce116521caff/sqlitedict-1.6.0.tar.gz\n",
      "Collecting deprecated==1.2.4 (from flair)\n",
      "  Downloading https://files.pythonhosted.org/packages/a9/cb/c1a39ee51e3042df8b284e22c9c440ffad1c25f451bddd4bf9a8dc17cd75/Deprecated-1.2.4-py2.py3-none-any.whl\n",
      "Collecting hyperopt==0.1.1 (from flair)\n",
      "\u001b[?25l  Downloading https://files.pythonhosted.org/packages/ce/9f/f6324af3fc43f352e568b5850695c30ed7dd14af06a94f97953ff9187569/hyperopt-0.1.1-py3-none-any.whl (117kB)\n",
      "\u001b[K    100% |████████████████████████████████| 122kB 11.7MB/s ta 0:00:01\n",
      "\u001b[?25hCollecting pytorch-pretrained-bert==0.3.0 (from flair)\n",
      "  Downloading https://files.pythonhosted.org/packages/26/85/de4dd7e018a197280752881adf7b4142886f20155145f641f7c803c0018a/pytorch_pretrained_bert-0.3.0-py3-none-any.whl\n",
      "Requirement already satisfied: numpy>=1.11.3 in /anaconda3/lib/python3.6/site-packages (from gensim==3.4.0->flair) (1.14.3)\n",
      "Requirement already satisfied: scipy>=0.18.1 in /anaconda3/lib/python3.6/site-packages (from gensim==3.4.0->flair) (1.1.0)\n",
      "Requirement already satisfied: six>=1.5.0 in /anaconda3/lib/python3.6/site-packages (from gensim==3.4.0->flair) (1.10.0)\n",
      "Requirement already satisfied: smart_open>=1.2.1 in /anaconda3/lib/python3.6/site-packages (from gensim==3.4.0->flair) (1.7.1)\n",
      "Requirement already satisfied: regex in /anaconda3/lib/python3.6/site-packages (from segtok==1.5.7->flair) (2017.11.9)\n",
      "Requirement already satisfied: pyparsing!=2.0.4,!=2.1.2,!=2.1.6,>=2.0.1 in /anaconda3/lib/python3.6/site-packages (from matplotlib==3.0.0->flair) (2.2.0)\n",
      "Requirement already satisfied: python-dateutil>=2.1 in /anaconda3/lib/python3.6/site-packages (from matplotlib==3.0.0->flair) (2.7.3)\n",
      "Requirement already satisfied: cycler>=0.10 in /anaconda3/lib/python3.6/site-packages (from matplotlib==3.0.0->flair) (0.10.0)\n",
      "Requirement already satisfied: kiwisolver>=1.0.1 in /anaconda3/lib/python3.6/site-packages (from matplotlib==3.0.0->flair) (1.0.1)\n",
      "Requirement already satisfied: scikit-learn in /anaconda3/lib/python3.6/site-packages (from sklearn->flair) (0.19.1)\n",
      "Requirement already satisfied: wrapt<2,>=1 in /anaconda3/lib/python3.6/site-packages (from deprecated==1.2.4->flair) (1.10.11)\n",
      "Requirement already satisfied: networkx in /anaconda3/lib/python3.6/site-packages (from hyperopt==0.1.1->flair) (2.1)\n",
      "Collecting pymongo (from hyperopt==0.1.1->flair)\n",
      "\u001b[?25l  Downloading https://files.pythonhosted.org/packages/b6/89/f489ad916e8543c976b67d99a46c4bd7e72bf59c3afb323703fe369332bd/pymongo-3.7.2-cp36-cp36m-macosx_10_9_x86_64.whl (307kB)\n",
      "\u001b[K    100% |████████████████████████████████| 317kB 7.7MB/s eta 0:00:01\n",
      "\u001b[?25hRequirement already satisfied: future in /anaconda3/lib/python3.6/site-packages (from hyperopt==0.1.1->flair) (0.16.0)\n",
      "Requirement already satisfied: requests in /anaconda3/lib/python3.6/site-packages (from pytorch-pretrained-bert==0.3.0->flair) (2.19.1)\n",
      "Requirement already satisfied: boto3 in /anaconda3/lib/python3.6/site-packages (from pytorch-pretrained-bert==0.3.0->flair) (1.9.9)\n",
      "Requirement already satisfied: bz2file in /anaconda3/lib/python3.6/site-packages (from smart_open>=1.2.1->gensim==3.4.0->flair) (0.98)\n",
      "Requirement already satisfied: boto>=2.32 in /anaconda3/lib/python3.6/site-packages (from smart_open>=1.2.1->gensim==3.4.0->flair) (2.48.0)\n",
      "Requirement already satisfied: setuptools in /anaconda3/lib/python3.6/site-packages (from kiwisolver>=1.0.1->matplotlib==3.0.0->flair) (39.1.0)\n",
      "Requirement already satisfied: decorator>=4.1.0 in /anaconda3/lib/python3.6/site-packages (from networkx->hyperopt==0.1.1->flair) (4.3.0)\n",
      "Requirement already satisfied: certifi>=2017.4.17 in /anaconda3/lib/python3.6/site-packages (from requests->pytorch-pretrained-bert==0.3.0->flair) (2018.4.16)\n",
      "Requirement already satisfied: chardet<3.1.0,>=3.0.2 in /anaconda3/lib/python3.6/site-packages (from requests->pytorch-pretrained-bert==0.3.0->flair) (3.0.4)\n",
      "Requirement already satisfied: urllib3<1.24,>=1.21.1 in /anaconda3/lib/python3.6/site-packages (from requests->pytorch-pretrained-bert==0.3.0->flair) (1.23)\n",
      "Requirement already satisfied: idna<2.8,>=2.5 in /anaconda3/lib/python3.6/site-packages (from requests->pytorch-pretrained-bert==0.3.0->flair) (2.7)\n",
      "Requirement already satisfied: botocore<1.13.0,>=1.12.9 in /anaconda3/lib/python3.6/site-packages (from boto3->pytorch-pretrained-bert==0.3.0->flair) (1.12.9)\n",
      "Requirement already satisfied: jmespath<1.0.0,>=0.7.1 in /anaconda3/lib/python3.6/site-packages (from boto3->pytorch-pretrained-bert==0.3.0->flair) (0.9.3)\n",
      "Requirement already satisfied: s3transfer<0.2.0,>=0.1.10 in /anaconda3/lib/python3.6/site-packages (from boto3->pytorch-pretrained-bert==0.3.0->flair) (0.1.13)\n",
      "Requirement already satisfied: docutils>=0.10 in /anaconda3/lib/python3.6/site-packages (from botocore<1.13.0,>=1.12.9->boto3->pytorch-pretrained-bert==0.3.0->flair) (0.14)\n",
      "Building wheels for collected packages: flair, segtok, mpld3, sklearn, sqlitedict\n",
      "  Running setup.py bdist_wheel for flair ... \u001b[?25ldone\n",
      "\u001b[?25h  Stored in directory: /Users/piek/Library/Caches/pip/wheels/54/1c/24/39ec59521bb1a83306cf5224a50f99aad60b55dd3b42d32ed0\n",
      "  Running setup.py bdist_wheel for segtok ... \u001b[?25ldone\n",
      "\u001b[?25h  Stored in directory: /Users/piek/Library/Caches/pip/wheels/15/ee/a8/6112173f1386d33eebedb3f73429cfa41a4c3084556bcee254\n",
      "  Running setup.py bdist_wheel for mpld3 ... \u001b[?25ldone\n",
      "\u001b[?25h  Stored in directory: /Users/piek/Library/Caches/pip/wheels/c0/47/fb/8a64f89aecfe0059830479308ad42d62e898a3e3cefdf6ba28\n",
      "  Running setup.py bdist_wheel for sklearn ... \u001b[?25ldone\n",
      "\u001b[?25h  Stored in directory: /Users/piek/Library/Caches/pip/wheels/76/03/bb/589d421d27431bcd2c6da284d5f2286c8e3b2ea3cf1594c074\n",
      "  Running setup.py bdist_wheel for sqlitedict ... \u001b[?25ldone\n",
      "\u001b[?25h  Stored in directory: /Users/piek/Library/Caches/pip/wheels/bd/57/d3/907c3ee02d35e66f674ad0106e61f06eeeb98f6ee66a6cc3fe\n",
      "Successfully built flair segtok mpld3 sklearn sqlitedict\n",
      "Installing collected packages: torch, segtok, matplotlib, mpld3, sklearn, sqlitedict, deprecated, pymongo, hyperopt, pytorch-pretrained-bert, flair\n",
      "  Found existing installation: matplotlib 2.2.2\n",
      "    Uninstalling matplotlib-2.2.2:\n",
      "      Successfully uninstalled matplotlib-2.2.2\n"
     ]
    },
    {
     "name": "stdout",
     "output_type": "stream",
     "text": [
      "Successfully installed deprecated-1.2.4 flair-0.4.0 hyperopt-0.1.1 matplotlib-3.0.0 mpld3-0.3 pymongo-3.7.2 pytorch-pretrained-bert-0.3.0 segtok-1.5.7 sklearn-0.0 sqlitedict-1.6.0 torch-1.0.0\r\n"
     ]
    }
   ],
   "source": [
    "#!pip install flair"
   ]
  },
  {
   "cell_type": "markdown",
   "metadata": {},
   "source": [
    "https://towardsdatascience.com/bringing-the-best-out-of-jupyter-notebooks-for-data-science-f0871519ca29\n",
    "#!pip install jupyterthemes"
   ]
  },
  {
   "cell_type": "code",
   "execution_count": 7,
   "metadata": {},
   "outputs": [
    {
     "name": "stdout",
     "output_type": "stream",
     "text": [
      "Available Themes: \r\n",
      "   chesterish\r\n",
      "   grade3\r\n",
      "   gruvboxd\r\n",
      "   gruvboxl\r\n",
      "   monokai\r\n",
      "   oceans16\r\n",
      "   onedork\r\n",
      "   solarizedd\r\n",
      "   solarizedl\r\n"
     ]
    }
   ],
   "source": [
    "!jt -l"
   ]
  },
  {
   "cell_type": "code",
   "execution_count": 8,
   "metadata": {},
   "outputs": [],
   "source": [
    "!jt -t solarizedl"
   ]
  },
  {
   "cell_type": "code",
   "execution_count": null,
   "metadata": {
    "scrolled": true
   },
   "outputs": [
    {
     "name": "stdout",
     "output_type": "stream",
     "text": [
      "Solving environment: \\ "
     ]
    }
   ],
   "source": [
    "#!conda install -c conda-forge jupyter_nbextensions_configurator"
   ]
  },
  {
   "cell_type": "code",
   "execution_count": null,
   "metadata": {},
   "outputs": [],
   "source": []
  }
 ],
 "metadata": {
  "kernelspec": {
   "display_name": "Python 3",
   "language": "python",
   "name": "python3"
  },
  "language_info": {
   "codemirror_mode": {
    "name": "ipython",
    "version": 3
   },
   "file_extension": ".py",
   "mimetype": "text/x-python",
   "name": "python",
   "nbconvert_exporter": "python",
   "pygments_lexer": "ipython3",
   "version": "3.6.5"
  }
 },
 "nbformat": 4,
 "nbformat_minor": 2
}
