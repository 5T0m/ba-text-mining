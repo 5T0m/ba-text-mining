{
 "cells": [
  {
   "cell_type": "markdown",
   "metadata": {},
   "source": [
    "# Open issues\n",
    "* [Isa]: do they need to research what each sentiment analyzer is doing.\n",
    "\n",
    "# Text Mining, Lab2 Assignment\n",
    "\n",
    "This notebook describes the assignment for Lab 2 of the text mining course. We assume you have worked through the notebooks \"Lab2-Sentiment-analysis-with-VADER.ipynb\", \"Lab2-Sentiment-analysis.with-NLTK.ipynb\" and \"Lab2-Sentiment-analysis.with-Skikitlearn.ipynb\". In these notebooks, you have worked with the VADER tool, trained a classifier in NLTK and with Skikit learn\". \n",
    "\n",
    "You also learned how to create a gold standard and carry out an evaluation with Skikit-learn.\n",
    "In this assignment, you are going to create your own goldstandards set from 50 tweets. You need to apply the VADER, NLTK and SKIKIT classifier to these tweets and evaluate the results using the SKIKIT learn evaluation metrics.\n",
    "\n",
    "* collect 50 tweets for evaluation\n",
    "* create a gold evaluation set\n",
    "* create predicted output using VADER, NLTK-movie-review, Skikit-learn-movie-review\n",
    "* use Skikit learn evaluation metrics to get the evaluations: accuracy, recall, precision, f1\n",
    "\n",
    "Next train a classifier (NLTK or Skikit-learn) from another data set. Here are some data sets for sentiment analysis:\n",
    "\n",
    "* https://www.cs.cornell.edu/people/pabo/movie-review-data/\n",
    "* https://github.com/nltk/nltk/wiki/Sentiment-Analysis\n",
    "\n",
    "Take one of these data sets and train a NaiveBayesClassifier. You need to find a way to obtain the correct training data. You may need to define a loop to read the texts from each file and get the word features from each. Make sure you concatenate the features and do not loose them along the way. \n",
    "\n",
    "* Provide statistics on the data set: how many files per category, how many features. \n",
    "* Divide a split over training and test data. \n",
    "* Train the classifier using the train set and evaluate the classifier on the test set. \n",
    "* Apply this new classifier to the same gold data as above and report again on the evaluation results\n",
    "\n"
   ]
  },
  {
   "cell_type": "markdown",
   "metadata": {},
   "source": [
    "Submit your assignment as a Jupyter notebook and as a PDF file via Canvas. You can save the notebook as a PDF file through the File/Download as menu.\n",
    "\n",
    "Please note that submissions should contain a title, your group number, your names.\n",
    "\n",
    "You don't need to provide a long explanation for your commands, simply the commands you used, and maybe some output will suffice. We will strive to give you feedback before the next Lab session."
   ]
  }
 ],
 "metadata": {
  "kernelspec": {
   "display_name": "Python 3",
   "language": "python",
   "name": "python3"
  },
  "language_info": {
   "codemirror_mode": {
    "name": "ipython",
    "version": 3
   },
   "file_extension": ".py",
   "mimetype": "text/x-python",
   "name": "python",
   "nbconvert_exporter": "python",
   "pygments_lexer": "ipython3",
   "version": "3.6.7"
  }
 },
 "nbformat": 4,
 "nbformat_minor": 2
}
