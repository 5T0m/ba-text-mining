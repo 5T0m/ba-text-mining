{
 "cells": [
  {
   "cell_type": "markdown",
   "metadata": {},
   "source": [
    "# Lab4-Introduction\n",
    "\n",
    "In this lab session we will cover Named Entity Recognition and Classification (NERC) as well as Entity Linking. Not all notebooks are required to be able to do the weekly assignment; some are provided as extra information. You may find them useful when working on your group projects, or you may want to work through them if you'd like some more advanced practice. \n",
    "\n",
    "## NERC\n",
    "\n",
    "For NERC, it is essential to work through:\n",
    "* 4a.1: Introduction to NERC\n",
    "* Lab4a.2-NERC-CRF.ipynb\n",
    "* Lab4a.3-NERC-biLSTM-CRF.ipynb\n",
    "* Lab4a.5-NERC-with_transformers.ipynb\n",
    "\n",
    "Extra material can be found in notebook 4a.4:\n",
    "\n",
    "* Lab4a.4-NERC-CRF-Dutch.ipynb\n",
    "\n",
    "The extra material explains the following:\n",
    "\n",
    "* how to build a Conditional Random Field (CRF) classifier with engineered features\n",
    "* how to combine a bi-directional Long-Short-Term-Memory (biLSTM) neural network with a CRF soft max function to skip the feature engineering\n",
    "\n",
    "## Entity Linking\n",
    "\n",
    "Entity linking is covered in the notebooks 4b. The following notebooks are essential:\n",
    "* 4b.1: Introduction \n",
    "* 4b.2: Tools: AIDA and Spotlight\n",
    "* 4b.3: Evaluation\n",
    "\n",
    "The extra material is in notebook 4b.4 and explains how to link entities detected by spaCy to databases using the tools shown in 4b.2.\n",
    "* 4b.4: Linking entities from spaCy\n",
    "\n"
   ]
  }
 ],
 "metadata": {
  "kernelspec": {
   "display_name": "Python 3",
   "language": "python",
   "name": "python3"
  },
  "language_info": {
   "codemirror_mode": {
    "name": "ipython",
    "version": 3
   },
   "file_extension": ".py",
   "mimetype": "text/x-python",
   "name": "python",
   "nbconvert_exporter": "python",
   "pygments_lexer": "ipython3",
   "version": "3.8.5"
  }
 },
 "nbformat": 4,
 "nbformat_minor": 4
}
