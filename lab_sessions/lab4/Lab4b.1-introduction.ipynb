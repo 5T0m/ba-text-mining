{
 "cells": [
  {
   "cell_type": "markdown",
   "metadata": {},
   "source": [
    "# Lab4b.1 Introduction: entities and identities"
   ]
  },
  {
   "cell_type": "markdown",
   "metadata": {},
   "source": [
    "Copyright: Vrije Universiteit Amsterdam, Faculty of Humanities, CLTL"
   ]
  },
  {
   "cell_type": "markdown",
   "metadata": {},
   "source": [
    "Named entity expresssions such a *Mr Johnson* do not make explicit who we are talking about. The same expression can refer to very different persons and different expressions can be used to refer to the same person.\n",
    "\n",
    "In addition to detecting named entity expressions, we therefore may want to find out what the identity is of the referent of the expression. This identity is often defined in some external database."
   ]
  },
  {
   "cell_type": "markdown",
   "metadata": {},
   "source": [
    "In Lab4b, you are going to use software that links named entity expressions to identities in a database [DBPedia][http://dbpedia.org].\n",
    "\n",
    "You find various notebooks in this lab:\n",
    "\n",
    "* *Lab4b.1-introduction.ipynb*: this notebook explaining the structure of lab3\n",
    "* *Lab4b.2-Entity-linking-introduction.ipynb*: explaining the basics of the entity linking\n",
    "* *Lab4b.3-Entity-linking-tools.ipynb*: introducing two entity linkng tools\n",
    "* *Lab4b.4-Linking-entities-from-spacy.ipynb*: showing how the entity linking tools can be applied to entities coming from spaCy\n",
    "* *Lab4b.5-Entity-linking-evaluation.ipynb*: explaining how to test and evaluate an entity linking system\n"
   ]
  },
  {
   "cell_type": "markdown",
   "metadata": {},
   "source": [
    "## End of this notebook"
   ]
  },
  {
   "cell_type": "code",
   "execution_count": null,
   "metadata": {},
   "outputs": [],
   "source": []
  }
 ],
 "metadata": {
  "kernelspec": {
   "display_name": "Python 3",
   "language": "python",
   "name": "python3"
  },
  "language_info": {
   "codemirror_mode": {
    "name": "ipython",
    "version": 3
   },
   "file_extension": ".py",
   "mimetype": "text/x-python",
   "name": "python",
   "nbconvert_exporter": "python",
   "pygments_lexer": "ipython3",
   "version": "3.7.4"
  }
 },
 "nbformat": 4,
 "nbformat_minor": 4
}
