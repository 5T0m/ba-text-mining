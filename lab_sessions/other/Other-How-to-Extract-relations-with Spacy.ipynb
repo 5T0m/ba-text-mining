{
 "cells": [
  {
   "cell_type": "markdown",
   "metadata": {},
   "source": [
    "https://github.com/explosion/spacy/blob/master/examples/information_extraction/entity_relations.py\n",
    "https://spacy.io/usage/examples#phrase-matcher https://spacy.io/usage/examples#entity-relations https://spacy.io/usage/examples#subtrees https://github.com/explosion/spacy/blob/master/examples/information_extraction/phrase_matcher.py\n",
    "\n",
    "A simple example of extracting relations between phrases and entities using\n",
    "spaCy's named entity recognizer and the dependency parse. Here, we extract\n",
    "money and currency values (entities labelled as MONEY) and then check the\n",
    "dependency tree to find the noun phrase they are referring to – for example:\n",
    "$9.4 million --> Net income.\n",
    "Compatible with: spaCy v2.0.0+"
   ]
  },
  {
   "cell_type": "code",
   "execution_count": 1,
   "metadata": {},
   "outputs": [
    {
     "name": "stdout",
     "output_type": "stream",
     "text": [
      "Info: Loaded model 'en_core_web_sm'\n",
      "Info: Processing 2 texts\n",
      "\n",
      "**Extracted relations:**\n",
      "\n",
      "Net income\tMONEY\t$9.4 million\n",
      "the prior year\tMONEY\t$2.7 million\n",
      "Revenue   \tMONEY\ttwelve billion dollars\n",
      "a loss    \tMONEY\t1b\n"
     ]
    }
   ],
   "source": [
    "#!/usr/bin/env python\n",
    "# coding: utf8\n",
    "\n",
    "#from __future__ import unicode_literals, print_function\n",
    "\n",
    "import spacy\n",
    "\n",
    "model=\"en_core_web_sm\"\n",
    "\n",
    "TEXTS = [\n",
    "    'Net income was $9.4 million compared to the prior year of $2.7 million.',\n",
    "    'Revenue exceeded twelve billion dollars, with a loss of $1b.',\n",
    "]\n",
    "\n",
    "\n",
    "def extract_currency_relations(doc):\n",
    "    # merge entities and noun chunks into one token\n",
    "    spans = list(doc.ents) + list(doc.noun_chunks)\n",
    "    for span in spans:\n",
    "        span.merge()\n",
    "\n",
    "    relations = []\n",
    "    for money in filter(lambda w: w.ent_type_ == 'MONEY', doc):\n",
    "        if money.dep_ in ('attr', 'dobj'):\n",
    "            subject = [w for w in money.head.lefts if w.dep_ == 'nsubj']\n",
    "            if subject:\n",
    "                subject = subject[0]\n",
    "                relations.append((subject, money))\n",
    "        elif money.dep_ == 'pobj' and money.head.dep_ == 'prep':\n",
    "            relations.append((money.head.head, money))\n",
    "    return relations\n",
    "\n",
    "def print_relations(relations):\n",
    "    for r1, r2 in relations:\n",
    "        print('{:<10}\\t{}\\t{}'.format(r1.text, r2.ent_type_, r2.text))\n",
    "    return\n",
    "        \n",
    "if __name__ == '__main__':\n",
    "    nlp = spacy.load(model)\n",
    "    print(\"Info: Loaded model '%s'\" % model)\n",
    "    print(\"Info: Processing %d texts\" % len(TEXTS))\n",
    "    print()\n",
    "    print('**Extracted relations:**')\n",
    "    print()\n",
    "    for text in TEXTS:\n",
    "        doc = nlp(text)\n",
    "        relations = extract_currency_relations(doc)\n",
    "        print_relations(relations)\n",
    "        \n",
    "\n",
    "    # Expected output:\n",
    "    # Net income      MONEY   $9.4 million\n",
    "    # the prior year  MONEY   $2.7 million\n",
    "    # Revenue         MONEY   twelve billion dollars\n",
    "    # a loss          MONEY   1b"
   ]
  },
  {
   "cell_type": "code",
   "execution_count": null,
   "metadata": {},
   "outputs": [],
   "source": []
  }
 ],
 "metadata": {
  "kernelspec": {
   "display_name": "Python 3",
   "language": "python",
   "name": "python3"
  },
  "language_info": {
   "codemirror_mode": {
    "name": "ipython",
    "version": 3
   },
   "file_extension": ".py",
   "mimetype": "text/x-python",
   "name": "python",
   "nbconvert_exporter": "python",
   "pygments_lexer": "ipython3",
   "version": "3.7.2"
  }
 },
 "nbformat": 4,
 "nbformat_minor": 2
}
