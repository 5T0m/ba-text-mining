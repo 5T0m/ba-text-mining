{
 "cells": [
  {
   "cell_type": "markdown",
   "metadata": {},
   "source": [
    "How to use an existing word embedding model gensim: https://radimrehurek.com/gensim/"
   ]
  },
  {
   "cell_type": "markdown",
   "metadata": {},
   "source": [
    "Open a terminal and install the gensim \n",
    "#bash\n",
    "package conda install -c conda-forge gensim"
   ]
  },
  {
   "cell_type": "markdown",
   "metadata": {},
   "source": [
    "After installing, you can import gensim in your notebook as follows."
   ]
  },
  {
   "cell_type": "code",
   "execution_count": 10,
   "metadata": {},
   "outputs": [],
   "source": [
    "import gensim"
   ]
  },
  {
   "cell_type": "code",
   "execution_count": 11,
   "metadata": {},
   "outputs": [
    {
     "data": {
      "text/plain": [
       "['AuthorTopicModel',\n",
       " 'BackMappingTranslationMatrix',\n",
       " 'CoherenceModel',\n",
       " 'Doc2Vec',\n",
       " 'FastText',\n",
       " 'HdpModel',\n",
       " 'KeyedVectors',\n",
       " 'LdaModel',\n",
       " 'LdaMulticore',\n",
       " 'LdaSeqModel',\n",
       " 'LogEntropyModel',\n",
       " 'LsiModel',\n",
       " 'NormModel',\n",
       " 'Phrases',\n",
       " 'RpModel',\n",
       " 'TfidfModel',\n",
       " 'TranslationMatrix',\n",
       " 'VocabTransform',\n",
       " 'Word2Vec',\n",
       " '__builtins__',\n",
       " '__cached__',\n",
       " '__doc__',\n",
       " '__file__',\n",
       " '__loader__',\n",
       " '__name__',\n",
       " '__package__',\n",
       " '__path__',\n",
       " '__spec__',\n",
       " '_utils_any2vec',\n",
       " 'atmodel',\n",
       " 'base_any2vec',\n",
       " 'basemodel',\n",
       " 'callbacks',\n",
       " 'coherencemodel',\n",
       " 'deprecated',\n",
       " 'doc2vec',\n",
       " 'doc2vec_inner',\n",
       " 'fasttext',\n",
       " 'fasttext_inner',\n",
       " 'hdpmodel',\n",
       " 'interfaces',\n",
       " 'keyedvectors',\n",
       " 'ldamodel',\n",
       " 'ldamulticore',\n",
       " 'ldaseqmodel',\n",
       " 'logentropy_model',\n",
       " 'lsimodel',\n",
       " 'normmodel',\n",
       " 'phrases',\n",
       " 'rpmodel',\n",
       " 'tfidfmodel',\n",
       " 'translation_matrix',\n",
       " 'utils',\n",
       " 'utils_any2vec',\n",
       " 'word2vec',\n",
       " 'word2vec_inner',\n",
       " 'wrappers']"
      ]
     },
     "execution_count": 11,
     "metadata": {},
     "output_type": "execute_result"
    }
   ],
   "source": [
    "#To get an overview of the functions and the models:\n",
    "dir(gensim.models)"
   ]
  },
  {
   "cell_type": "code",
   "execution_count": 12,
   "metadata": {},
   "outputs": [],
   "source": [
    "#To use Word2Vec\n",
    "from gensim.models import Word2Vec"
   ]
  },
  {
   "cell_type": "markdown",
   "metadata": {},
   "source": [
    "We are going to use a word2vec model built by Baroni et al: M. Baroni and G. Dinu and G.Kruszewski: Don’t count, predict! A systematic comparison of context-counting vs. context-predicting semantic vectors.  You can download the binary model from the VU-CLTL server:\n",
    "    http://kyoto.let.vu.nl/~vossen/baroni2vec.bin"
   ]
  },
  {
   "cell_type": "markdown",
   "metadata": {},
   "source": [
    "Alternatively,there are many packages available that are not standard in the Anaconda client. To find more, you can access the Anaconda cloud:\n",
    "\n",
    "1. Create an account for the anaconda cloud: https://anaconda.org/ and login on the website\n",
    "2. The documentation tells you how to install packages in your local Anaconda client:\n",
    "http://docs.anaconda.com/anaconda-cloud/user-guide/howto/#use-packages\n",
    "\n",
    "The general command structure is: “conda install -c <username> <packagename>”\n",
    "Within the cloud you can for example search for “gensim”:\n",
    "https://anaconda.org/search?q=gensim\n",
    "\n",
    "You find many results. We use: asmeurer / gensim 0.8.8. If you click on the link, you get to a description page:\n",
    "\thttps://anaconda.org/asmeurer/gensim\n",
    "where it says use the Terminal command: conda install -c asmeurer gensim \n",
    "\n",
    "Since your account name is not “asmeurer” change the command with your account. \n",
    "But for gensim you can also use the generic install without a username that we mentioned at the start:\n",
    "> conda install -c conda-forge gensim."
   ]
  },
  {
   "cell_type": "markdown",
   "metadata": {},
   "source": [
    "Within the Python environment do the following, assuming that the file is located in the Download folder (in this example for the user “me” in /Users/me/Downloads/):"
   ]
  },
  {
   "cell_type": "code",
   "execution_count": 13,
   "metadata": {},
   "outputs": [],
   "source": [
    "#change the path to you local copy of baroni2vec.bin, adapt the \"/\" to \"\\\" on windows\n",
    "from gensim.models import KeyedVectors\n",
    "gensimmodel = KeyedVectors.load_word2vec_format('/Users/piek/Desktop/CBS2019/baroni2vec.bin', binary=True)"
   ]
  },
  {
   "cell_type": "markdown",
   "metadata": {},
   "source": [
    "* How similar are A and B? \n",
    "* What are the most similar words for A and what are the most similar words for B?\n",
    "* What semantic relations would hold between these words in your opinion: more specific, less specific, synonym, opposite or related?\n",
    "* What is the projected vector taking the vector of a related word of A + the vector of B - the vector for A? Does it make sense?"
   ]
  },
  {
   "cell_type": "code",
   "execution_count": 5,
   "metadata": {},
   "outputs": [
    {
     "data": {
      "text/plain": [
       "0.25112168233643767"
      ]
     },
     "execution_count": 5,
     "metadata": {},
     "output_type": "execute_result"
    }
   ],
   "source": [
    "gensimmodel.similarity('trigger','prevent')"
   ]
  },
  {
   "cell_type": "code",
   "execution_count": 17,
   "metadata": {},
   "outputs": [
    {
     "ename": "ValueError",
     "evalue": "interactive pane does not support objects of type 'method'",
     "output_type": "error",
     "traceback": [
      "\u001b[0;31m---------------------------------------------------------------------------\u001b[0m",
      "\u001b[0;31mValueError\u001b[0m                                Traceback (most recent call last)",
      "\u001b[0;32m<ipython-input-17-5eb81b9f7232>\u001b[0m in \u001b[0;36m<module>\u001b[0;34m()\u001b[0m\n\u001b[0;32m----> 1\u001b[0;31m \u001b[0mpn\u001b[0m\u001b[0;34m.\u001b[0m\u001b[0minteract\u001b[0m\u001b[0;34m(\u001b[0m\u001b[0mgensimmodel\u001b[0m\u001b[0;34m.\u001b[0m\u001b[0msimilarity\u001b[0m\u001b[0;34m)\u001b[0m\u001b[0;34m\u001b[0m\u001b[0m\n\u001b[0m",
      "\u001b[0;32m/anaconda3/lib/python3.6/site-packages/panel/interact.py\u001b[0m in \u001b[0;36m__call__\u001b[0;34m(self, _InteractFactory__interact_f, **kwargs)\u001b[0m\n\u001b[1;32m    473\u001b[0m         \u001b[0;31m#    def f(*args, **kwargs):\u001b[0m\u001b[0;34m\u001b[0m\u001b[0;34m\u001b[0m\u001b[0m\n\u001b[1;32m    474\u001b[0m         \u001b[0;31m#        ...\u001b[0m\u001b[0;34m\u001b[0m\u001b[0;34m\u001b[0m\u001b[0m\n\u001b[0;32m--> 475\u001b[0;31m         \u001b[0mw\u001b[0m \u001b[0;34m=\u001b[0m \u001b[0mself\u001b[0m\u001b[0;34m.\u001b[0m\u001b[0mwidget\u001b[0m\u001b[0;34m(\u001b[0m\u001b[0mf\u001b[0m\u001b[0;34m)\u001b[0m\u001b[0;34m\u001b[0m\u001b[0m\n\u001b[0m\u001b[1;32m    476\u001b[0m         \u001b[0;32mtry\u001b[0m\u001b[0;34m:\u001b[0m\u001b[0;34m\u001b[0m\u001b[0m\n\u001b[1;32m    477\u001b[0m             \u001b[0mf\u001b[0m\u001b[0;34m.\u001b[0m\u001b[0mwidget\u001b[0m \u001b[0;34m=\u001b[0m \u001b[0mw\u001b[0m\u001b[0;34m\u001b[0m\u001b[0m\n",
      "\u001b[0;32m/anaconda3/lib/python3.6/site-packages/panel/interact.py\u001b[0m in \u001b[0;36mwidget\u001b[0;34m(self, f)\u001b[0m\n\u001b[1;32m    398\u001b[0m             \u001b[0mThe\u001b[0m \u001b[0mfunction\u001b[0m \u001b[0mto\u001b[0m \u001b[0mwhich\u001b[0m \u001b[0mthe\u001b[0m \u001b[0minteractive\u001b[0m \u001b[0mwidgets\u001b[0m \u001b[0mare\u001b[0m \u001b[0mtied\u001b[0m\u001b[0;34m.\u001b[0m\u001b[0;34m\u001b[0m\u001b[0m\n\u001b[1;32m    399\u001b[0m         \"\"\"\n\u001b[0;32m--> 400\u001b[0;31m         \u001b[0;32mreturn\u001b[0m \u001b[0mself\u001b[0m\u001b[0;34m.\u001b[0m\u001b[0mcls\u001b[0m\u001b[0;34m(\u001b[0m\u001b[0mf\u001b[0m\u001b[0;34m,\u001b[0m \u001b[0mself\u001b[0m\u001b[0;34m.\u001b[0m\u001b[0mopts\u001b[0m\u001b[0;34m,\u001b[0m \u001b[0;34m**\u001b[0m\u001b[0mself\u001b[0m\u001b[0;34m.\u001b[0m\u001b[0mkwargs\u001b[0m\u001b[0;34m)\u001b[0m\u001b[0;34m\u001b[0m\u001b[0m\n\u001b[0m\u001b[1;32m    401\u001b[0m \u001b[0;34m\u001b[0m\u001b[0m\n\u001b[1;32m    402\u001b[0m     \u001b[0;32mdef\u001b[0m \u001b[0m__call__\u001b[0m\u001b[0;34m(\u001b[0m\u001b[0mself\u001b[0m\u001b[0;34m,\u001b[0m \u001b[0m__interact_f\u001b[0m\u001b[0;34m=\u001b[0m\u001b[0;32mNone\u001b[0m\u001b[0;34m,\u001b[0m \u001b[0;34m**\u001b[0m\u001b[0mkwargs\u001b[0m\u001b[0;34m)\u001b[0m\u001b[0;34m:\u001b[0m\u001b[0;34m\u001b[0m\u001b[0m\n",
      "\u001b[0;32m/anaconda3/lib/python3.6/site-packages/panel/interact.py\u001b[0m in \u001b[0;36m__init__\u001b[0;34m(self, object, params, **kwargs)\u001b[0m\n\u001b[1;32m    129\u001b[0m                               '(>=3.3 or IPython to inspect function signatures.')\n\u001b[1;32m    130\u001b[0m \u001b[0;34m\u001b[0m\u001b[0m\n\u001b[0;32m--> 131\u001b[0;31m         \u001b[0msuper\u001b[0m\u001b[0;34m(\u001b[0m\u001b[0minteractive\u001b[0m\u001b[0;34m,\u001b[0m \u001b[0mself\u001b[0m\u001b[0;34m)\u001b[0m\u001b[0;34m.\u001b[0m\u001b[0m__init__\u001b[0m\u001b[0;34m(\u001b[0m\u001b[0mobject\u001b[0m\u001b[0;34m,\u001b[0m \u001b[0;34m**\u001b[0m\u001b[0mparams\u001b[0m\u001b[0;34m)\u001b[0m\u001b[0;34m\u001b[0m\u001b[0m\n\u001b[0m\u001b[1;32m    132\u001b[0m \u001b[0;34m\u001b[0m\u001b[0m\n\u001b[1;32m    133\u001b[0m         \u001b[0mnew_kwargs\u001b[0m \u001b[0;34m=\u001b[0m \u001b[0mself\u001b[0m\u001b[0;34m.\u001b[0m\u001b[0mfind_abbreviations\u001b[0m\u001b[0;34m(\u001b[0m\u001b[0mkwargs\u001b[0m\u001b[0;34m)\u001b[0m\u001b[0;34m\u001b[0m\u001b[0m\n",
      "\u001b[0;32m/anaconda3/lib/python3.6/site-packages/panel/pane/base.py\u001b[0m in \u001b[0;36m__init__\u001b[0;34m(self, object, **params)\u001b[0m\n\u001b[1;32m     69\u001b[0m         \u001b[0;32mif\u001b[0m \u001b[0;34m(\u001b[0m\u001b[0misinstance\u001b[0m\u001b[0;34m(\u001b[0m\u001b[0mapplies\u001b[0m\u001b[0;34m,\u001b[0m \u001b[0mbool\u001b[0m\u001b[0;34m)\u001b[0m \u001b[0;32mand\u001b[0m \u001b[0;32mnot\u001b[0m \u001b[0mapplies\u001b[0m\u001b[0;34m)\u001b[0m \u001b[0;32mand\u001b[0m \u001b[0mobject\u001b[0m \u001b[0;32mis\u001b[0m \u001b[0;32mnot\u001b[0m \u001b[0;32mNone\u001b[0m \u001b[0;34m:\u001b[0m\u001b[0;34m\u001b[0m\u001b[0m\n\u001b[1;32m     70\u001b[0m             raise ValueError(\"%s pane does not support objects of type '%s'\" %\n\u001b[0;32m---> 71\u001b[0;31m                              (type(self).__name__, type(object).__name__))\n\u001b[0m\u001b[1;32m     72\u001b[0m \u001b[0;34m\u001b[0m\u001b[0m\n\u001b[1;32m     73\u001b[0m         \u001b[0msuper\u001b[0m\u001b[0;34m(\u001b[0m\u001b[0mPaneBase\u001b[0m\u001b[0;34m,\u001b[0m \u001b[0mself\u001b[0m\u001b[0;34m)\u001b[0m\u001b[0;34m.\u001b[0m\u001b[0m__init__\u001b[0m\u001b[0;34m(\u001b[0m\u001b[0mobject\u001b[0m\u001b[0;34m=\u001b[0m\u001b[0mobject\u001b[0m\u001b[0;34m,\u001b[0m \u001b[0;34m**\u001b[0m\u001b[0mparams\u001b[0m\u001b[0;34m)\u001b[0m\u001b[0;34m\u001b[0m\u001b[0m\n",
      "\u001b[0;31mValueError\u001b[0m: interactive pane does not support objects of type 'method'"
     ]
    }
   ],
   "source": [
    "pn.interact(gensimmodel.similarity)"
   ]
  },
  {
   "cell_type": "code",
   "execution_count": 15,
   "metadata": {},
   "outputs": [
    {
     "data": {
      "text/plain": [
       "[('triggers', 0.6730290055274963),\n",
       " ('triggering', 0.6301262974739075),\n",
       " ('triggered', 0.618744969367981),\n",
       " ('activates', 0.47071921825408936),\n",
       " ('monostable', 0.4318832755088806),\n",
       " ('microswitch', 0.42389610409736633),\n",
       " ('activate', 0.4231356978416443),\n",
       " ('deactivates', 0.41561710834503174),\n",
       " ('desensitize', 0.41473260521888733),\n",
       " ('full-auto', 0.4127802848815918)]"
      ]
     },
     "execution_count": 15,
     "metadata": {},
     "output_type": "execute_result"
    }
   ],
   "source": [
    "gensimmodel.most_similar('trigger')"
   ]
  },
  {
   "cell_type": "code",
   "execution_count": 13,
   "metadata": {},
   "outputs": [
    {
     "data": {
      "text/plain": [
       "[('girl', 0.6356706619262695),\n",
       " ('man', 0.613399088382721),\n",
       " ('women', 0.5506842732429504),\n",
       " ('dark-haired', 0.5453897714614868),\n",
       " ('divorcée', 0.5442584753036499),\n",
       " ('englishwoman', 0.5278086066246033),\n",
       " ('woman\\x92s', 0.525086522102356),\n",
       " ('lady', 0.5242883563041687),\n",
       " ('she', 0.5227102041244507),\n",
       " ('nymphomaniac', 0.5140067338943481)]"
      ]
     },
     "execution_count": 13,
     "metadata": {},
     "output_type": "execute_result"
    }
   ],
   "source": [
    "gensimmodel.most_similar('woman')"
   ]
  },
  {
   "cell_type": "code",
   "execution_count": 14,
   "metadata": {},
   "outputs": [
    {
     "data": {
      "text/plain": [
       "[('queen', 0.5801537036895752)]"
      ]
     },
     "execution_count": 14,
     "metadata": {},
     "output_type": "execute_result"
    }
   ],
   "source": [
    "gensimmodel.most_similar(positive=['woman', 'king'], negative=['man'], topn=1)"
   ]
  },
  {
   "cell_type": "code",
   "execution_count": 11,
   "metadata": {},
   "outputs": [
    {
     "data": {
      "text/plain": [
       "array([-0.399699,  0.06482 ,  0.368686, -0.377926, -0.208074,  0.092846,\n",
       "        0.263108,  0.001644, -0.131597,  0.248029,  0.193516,  0.358381,\n",
       "       -0.061733,  0.3458  ,  0.101475, -0.437568,  0.09023 , -0.221989,\n",
       "       -0.177281,  0.186275, -0.177728,  0.03433 ,  0.083448, -0.147547,\n",
       "       -0.197424,  0.026185,  0.037277,  0.026462,  0.221429,  0.11221 ,\n",
       "       -0.232993,  0.16042 , -0.232213,  0.295674,  0.008174, -0.127702,\n",
       "       -0.042977,  0.044021,  0.015354, -0.008699,  0.050983,  0.307894,\n",
       "       -0.180218,  0.174326, -0.015698, -0.046843,  0.278651, -0.115122,\n",
       "        0.105387,  0.004491,  0.094357,  0.005139,  0.13199 , -0.051129,\n",
       "        0.025236,  0.025753, -0.052252, -0.137729,  0.49573 ,  0.098202,\n",
       "        0.006868,  0.110939,  0.12603 ,  0.296865, -0.376774, -0.060058,\n",
       "        0.25929 ,  0.357815,  0.053625, -0.095404, -0.080501,  0.233063,\n",
       "        0.093019, -0.043595,  0.472759, -0.173012,  0.001466,  0.077951,\n",
       "        0.222487,  0.019556,  0.237507, -0.160088,  0.117915,  0.179803,\n",
       "        0.107175,  0.142339,  0.046431,  0.423276, -0.157801,  0.221353,\n",
       "        0.057608, -0.098142, -0.221486, -0.371582,  0.201215, -0.123113,\n",
       "       -0.189023,  0.158213, -0.258175, -0.259924, -0.074991, -0.109063,\n",
       "       -0.063486,  0.137847, -0.092832, -0.005721, -0.006365, -0.477233,\n",
       "        0.220517, -0.495044, -0.056815, -0.085323, -0.1247  , -0.145913,\n",
       "        0.012674,  0.225366, -0.295461,  0.081429, -0.087798, -0.057149,\n",
       "       -0.275085, -0.074385, -0.039731, -0.034637, -0.086304, -0.0426  ,\n",
       "       -0.335173,  0.179232,  0.161594,  0.06004 ,  0.004217,  0.086885,\n",
       "        0.20389 , -0.016479,  0.089629,  0.127781,  0.141904,  0.153504,\n",
       "       -0.013009, -0.224389, -0.05112 , -0.300298, -0.158536,  0.231469,\n",
       "       -0.183596,  0.158222, -0.223387,  0.416737, -0.019559, -0.339639,\n",
       "       -0.053979, -0.107654,  0.00454 ,  0.158369, -0.020622,  0.279799,\n",
       "       -0.08516 ,  0.52812 , -0.097972, -0.008279,  0.070512, -0.164168,\n",
       "        0.093151, -0.154454, -0.314801,  0.340676, -0.058244,  0.161798,\n",
       "       -0.257114, -0.066384,  0.092917,  0.098593,  0.191225, -0.189664,\n",
       "       -0.058111,  0.034138,  0.168224, -0.139814,  0.226007, -0.070899,\n",
       "        0.021112, -0.165823,  0.206359, -0.46701 ,  0.10738 , -0.124951,\n",
       "       -0.070943,  0.095323,  0.083374, -0.386192, -0.074773, -0.290508,\n",
       "        0.039774, -0.070786,  0.115508, -0.317369, -0.35818 ,  0.39779 ,\n",
       "        0.420635,  0.241285,  0.162651, -0.096723, -0.390814,  0.118285,\n",
       "       -0.427672,  0.038919,  0.112236, -0.036837, -0.155957, -0.236305,\n",
       "        0.087429, -0.101644, -0.136857, -0.158117, -0.299612, -0.169684,\n",
       "       -0.296462, -0.036451,  0.370905, -0.15481 ,  0.167228, -0.319835,\n",
       "       -0.019195, -0.203714, -0.046498, -0.240916,  0.089166, -0.064489,\n",
       "        0.151595,  0.363423, -0.216994, -0.164415, -0.039462, -0.147802,\n",
       "        0.239445, -0.240897, -0.316543, -0.196076,  0.447015,  0.00117 ,\n",
       "        0.262984,  0.048665, -0.126707, -0.173887,  0.050253, -0.059906,\n",
       "       -0.155937,  0.175206, -0.262196, -0.012664, -0.122768, -0.018938,\n",
       "        0.135259,  0.191124,  0.040703, -0.032877, -0.191765,  0.058722,\n",
       "       -0.240725,  0.083472, -0.350553, -0.016472,  0.107412, -0.169987,\n",
       "       -0.212666,  0.199804, -0.030275,  0.084068, -0.469695,  0.032013,\n",
       "        0.084244,  0.135845, -0.007712,  0.166208,  0.066451,  0.176637,\n",
       "        0.31472 , -0.244908,  0.067336, -0.536678,  0.038577,  0.146128,\n",
       "        0.243342, -0.058173,  0.037523,  0.100022, -0.433936, -0.24335 ,\n",
       "       -0.035522,  0.244519, -0.273916,  0.349195,  0.227731, -0.262804,\n",
       "       -0.094073,  0.179689, -0.00732 , -0.256415, -0.169701,  0.225587,\n",
       "        0.055219,  0.110178,  0.300678,  0.522071, -0.065119,  0.200884,\n",
       "        0.088857,  0.124332,  0.034323, -0.098961, -0.390223,  0.132567,\n",
       "       -0.004405, -0.057945,  0.106089,  0.472106, -0.288744, -0.163191,\n",
       "        0.411766, -0.442404, -0.520486,  0.127702, -0.089088, -0.065494,\n",
       "        0.213256,  0.0444  , -0.047535, -0.077187, -0.180826, -0.015319,\n",
       "       -0.143875, -0.002404, -0.087285, -0.036934,  0.015066, -0.239118,\n",
       "       -0.014646, -0.239925, -0.269147,  0.26287 , -0.097892, -0.193303,\n",
       "       -0.22439 , -0.080805,  0.242617,  0.202484, -0.260013, -0.237916,\n",
       "        0.18577 , -0.261844, -0.279886,  0.128631,  0.177897,  0.004514,\n",
       "        0.525865,  0.3299  , -0.038302, -0.258125,  0.260713, -0.041522,\n",
       "        0.310271, -0.007026,  0.021386, -0.215645,  0.097451, -0.486969,\n",
       "        0.164164, -0.037691,  0.08929 , -0.288914,  0.160187,  0.278887,\n",
       "       -0.045594,  0.00662 ,  0.358487, -0.010876,  0.121929,  0.173245,\n",
       "       -0.241102, -0.28945 , -0.448612,  0.280939,  0.186671, -0.181483,\n",
       "        0.043805,  0.100436, -0.019953, -0.090863, -0.196118, -0.195677,\n",
       "        0.385156,  0.520447, -0.270979, -0.084864,  0.121499, -0.068024,\n",
       "        0.199578, -0.095568, -0.173029, -0.014091], dtype=float32)"
      ]
     },
     "execution_count": 11,
     "metadata": {},
     "output_type": "execute_result"
    }
   ],
   "source": [
    "gensimmodel.get_vector('trigger')"
   ]
  },
  {
   "cell_type": "code",
   "execution_count": 17,
   "metadata": {},
   "outputs": [
    {
     "data": {
      "text/plain": [
       "400"
      ]
     },
     "execution_count": 17,
     "metadata": {},
     "output_type": "execute_result"
    }
   ],
   "source": [
    "vector.size"
   ]
  },
  {
   "cell_type": "code",
   "execution_count": null,
   "metadata": {},
   "outputs": [],
   "source": []
  }
 ],
 "metadata": {
  "kernelspec": {
   "display_name": "Python 3",
   "language": "python",
   "name": "python3"
  },
  "language_info": {
   "codemirror_mode": {
    "name": "ipython",
    "version": 3
   },
   "file_extension": ".py",
   "mimetype": "text/x-python",
   "name": "python",
   "nbconvert_exporter": "python",
   "pygments_lexer": "ipython3",
   "version": "3.6.5"
  }
 },
 "nbformat": 4,
 "nbformat_minor": 2
}
