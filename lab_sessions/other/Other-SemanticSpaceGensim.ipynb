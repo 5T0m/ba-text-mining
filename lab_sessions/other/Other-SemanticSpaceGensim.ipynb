{
 "cells": [
  {
   "cell_type": "markdown",
   "metadata": {},
   "source": [
    "How to use an existing word embedding model gensim: https://radimrehurek.com/gensim/"
   ]
  },
  {
   "cell_type": "markdown",
   "metadata": {},
   "source": [
    "Open a terminal and install the gensim \n",
    "#bash\n",
    "package conda install -c conda-forge gensim"
   ]
  },
  {
   "cell_type": "markdown",
   "metadata": {},
   "source": [
    "After installing, you can import gensim in your notebook as follows."
   ]
  },
  {
   "cell_type": "code",
   "execution_count": 18,
   "metadata": {},
   "outputs": [],
   "source": [
    "import gensim"
   ]
  },
  {
   "cell_type": "code",
   "execution_count": 19,
   "metadata": {},
   "outputs": [
    {
     "data": {
      "text/plain": [
       "['AuthorTopicModel',\n",
       " 'BackMappingTranslationMatrix',\n",
       " 'CoherenceModel',\n",
       " 'Doc2Vec',\n",
       " 'FastText',\n",
       " 'HdpModel',\n",
       " 'KeyedVectors',\n",
       " 'LdaModel',\n",
       " 'LdaMulticore',\n",
       " 'LdaSeqModel',\n",
       " 'LogEntropyModel',\n",
       " 'LsiModel',\n",
       " 'NormModel',\n",
       " 'Phrases',\n",
       " 'RpModel',\n",
       " 'TfidfModel',\n",
       " 'TranslationMatrix',\n",
       " 'VocabTransform',\n",
       " 'Word2Vec',\n",
       " '__builtins__',\n",
       " '__cached__',\n",
       " '__doc__',\n",
       " '__file__',\n",
       " '__loader__',\n",
       " '__name__',\n",
       " '__package__',\n",
       " '__path__',\n",
       " '__spec__',\n",
       " '_utils_any2vec',\n",
       " 'atmodel',\n",
       " 'base_any2vec',\n",
       " 'basemodel',\n",
       " 'callbacks',\n",
       " 'coherencemodel',\n",
       " 'deprecated',\n",
       " 'doc2vec',\n",
       " 'doc2vec_inner',\n",
       " 'fasttext',\n",
       " 'fasttext_inner',\n",
       " 'hdpmodel',\n",
       " 'interfaces',\n",
       " 'keyedvectors',\n",
       " 'ldamodel',\n",
       " 'ldamulticore',\n",
       " 'ldaseqmodel',\n",
       " 'logentropy_model',\n",
       " 'lsimodel',\n",
       " 'normmodel',\n",
       " 'phrases',\n",
       " 'rpmodel',\n",
       " 'tfidfmodel',\n",
       " 'translation_matrix',\n",
       " 'utils',\n",
       " 'utils_any2vec',\n",
       " 'word2vec',\n",
       " 'word2vec_inner',\n",
       " 'wrappers']"
      ]
     },
     "execution_count": 19,
     "metadata": {},
     "output_type": "execute_result"
    }
   ],
   "source": [
    "#To get an overview of the functions and the models:\n",
    "dir(gensim.models)"
   ]
  },
  {
   "cell_type": "code",
   "execution_count": 20,
   "metadata": {},
   "outputs": [],
   "source": [
    "#To use Word2Vec\n",
    "from gensim.models import Word2Vec"
   ]
  },
  {
   "cell_type": "markdown",
   "metadata": {},
   "source": [
    "We are going to use a word2vec model built by Baroni et al: M. Baroni and G. Dinu and G.Kruszewski: Don’t count, predict! A systematic comparison of context-counting vs. context-predicting semantic vectors.  You can download the binary model from the VU-CLTL server:\n",
    "    http://kyoto.let.vu.nl/~vossen/baroni2vec.bin"
   ]
  },
  {
   "cell_type": "markdown",
   "metadata": {},
   "source": [
    "Alternatively,there are many packages available that are not standard in the Anaconda client. To find more, you can access the Anaconda cloud:\n",
    "\n",
    "1. Create an account for the anaconda cloud: https://anaconda.org/ and login on the website\n",
    "2. The documentation tells you how to install packages in your local Anaconda client:\n",
    "http://docs.anaconda.com/anaconda-cloud/user-guide/howto/#use-packages\n",
    "\n",
    "The general command structure is: “conda install -c <username> <packagename>”\n",
    "Within the cloud you can for example search for “gensim”:\n",
    "https://anaconda.org/search?q=gensim\n",
    "\n",
    "You find many results. We use: asmeurer / gensim 0.8.8. If you click on the link, you get to a description page:\n",
    "\thttps://anaconda.org/asmeurer/gensim\n",
    "where it says use the Terminal command: conda install -c asmeurer gensim \n",
    "\n",
    "Since your account name is not “asmeurer” change the command with your account. \n",
    "But for gensim you can also use the generic install without a username that we mentioned at the start:\n",
    "> conda install -c conda-forge gensim."
   ]
  },
  {
   "cell_type": "markdown",
   "metadata": {},
   "source": [
    "Within the Python environment do the following, assuming that the file is located in the Download folder (in this example for the user “me” in /Users/me/Downloads/):"
   ]
  },
  {
   "cell_type": "code",
   "execution_count": 6,
   "metadata": {},
   "outputs": [],
   "source": [
    "#change the path to you local copy of baroni2vec.bin, adapt the \"/\" to \"\\\" on windows\n",
    "from gensim.models import KeyedVectors\n",
    "gensimmodel = KeyedVectors.load_word2vec_format('/Users/piek/Desktop/CBS2019/baroni2vec.bin', binary=True)"
   ]
  },
  {
   "cell_type": "markdown",
   "metadata": {},
   "source": [
    "* How similar are A and B? \n",
    "* What are the most similar words for A and what are the most similar words for B?\n",
    "* What semantic relations would hold between these words in your opinion: more specific, less specific, synonym, opposite or related?\n",
    "* What is the projected vector taking the vector of a related word of A + the vector of B - the vector for A? Does it make sense?"
   ]
  },
  {
   "cell_type": "code",
   "execution_count": 7,
   "metadata": {},
   "outputs": [
    {
     "data": {
      "text/plain": [
       "0.6133990417885153"
      ]
     },
     "execution_count": 7,
     "metadata": {},
     "output_type": "execute_result"
    }
   ],
   "source": [
    "gensimmodel.similarity('woman','man')"
   ]
  },
  {
   "cell_type": "code",
   "execution_count": 12,
   "metadata": {},
   "outputs": [
    {
     "data": {
      "text/plain": [
       "[('woman', 0.613399088382721),\n",
       " ('gentleman', 0.49817389249801636),\n",
       " ('gray-haired', 0.4922347664833069),\n",
       " ('boy', 0.4887872338294983),\n",
       " ('person', 0.4830567240715027),\n",
       " ('lad', 0.47870683670043945),\n",
       " ('men', 0.4735845923423767),\n",
       " ('girl', 0.4663434624671936),\n",
       " ('stranger', 0.46486419439315796),\n",
       " ('man.', 0.4627653658390045)]"
      ]
     },
     "execution_count": 12,
     "metadata": {},
     "output_type": "execute_result"
    }
   ],
   "source": [
    "gensimmodel.most_similar('man')"
   ]
  },
  {
   "cell_type": "code",
   "execution_count": 13,
   "metadata": {},
   "outputs": [
    {
     "data": {
      "text/plain": [
       "[('girl', 0.6356706619262695),\n",
       " ('man', 0.613399088382721),\n",
       " ('women', 0.5506842732429504),\n",
       " ('dark-haired', 0.5453897714614868),\n",
       " ('divorcée', 0.5442584753036499),\n",
       " ('englishwoman', 0.5278086066246033),\n",
       " ('woman\\x92s', 0.525086522102356),\n",
       " ('lady', 0.5242883563041687),\n",
       " ('she', 0.5227102041244507),\n",
       " ('nymphomaniac', 0.5140067338943481)]"
      ]
     },
     "execution_count": 13,
     "metadata": {},
     "output_type": "execute_result"
    }
   ],
   "source": [
    "gensimmodel.most_similar('woman')"
   ]
  },
  {
   "cell_type": "code",
   "execution_count": 14,
   "metadata": {},
   "outputs": [
    {
     "data": {
      "text/plain": [
       "[('queen', 0.5801537036895752)]"
      ]
     },
     "execution_count": 14,
     "metadata": {},
     "output_type": "execute_result"
    }
   ],
   "source": [
    "gensimmodel.most_similar(positive=['woman', 'king'], negative=['man'], topn=1)"
   ]
  },
  {
   "cell_type": "code",
   "execution_count": null,
   "metadata": {},
   "outputs": [],
   "source": []
  }
 ],
 "metadata": {
  "kernelspec": {
   "display_name": "Python 3",
   "language": "python",
   "name": "python3"
  },
  "language_info": {
   "codemirror_mode": {
    "name": "ipython",
    "version": 3
   },
   "file_extension": ".py",
   "mimetype": "text/x-python",
   "name": "python",
   "nbconvert_exporter": "python",
   "pygments_lexer": "ipython3",
   "version": "3.6.5"
  }
 },
 "nbformat": 4,
 "nbformat_minor": 2
}
